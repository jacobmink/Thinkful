{
 "cells": [
  {
   "cell_type": "markdown",
   "metadata": {},
   "source": [
    "# Capstone Project"
   ]
  },
  {
   "cell_type": "code",
   "execution_count": 139,
   "metadata": {
    "collapsed": false
   },
   "outputs": [],
   "source": [
    "import requests\n",
    "import pandas as pd\n",
    "import numpy as np\n",
    "import sqlite3 as lite\n",
    "from pandas.io.json import json_normalize\n",
    "import matplotlib.pyplot as plt\n",
    "import time\n",
    "import datetime\n",
    "from dateutil.parser import parse\n",
    "import collections\n",
    "import json\n",
    "import ijson\n",
    "from bs4 import BeautifulSoup\n",
    "import re\n",
    "import nltk\n",
    "from nltk.corpus import stopwords\n",
    "from sklearn.feature_extraction.text import CountVectorizer\n",
    "from sklearn.ensemble import RandomForestClassifier\n",
    "import sklearn.metrics"
   ]
  },
  {
   "cell_type": "markdown",
   "metadata": {},
   "source": [
    "## Try some tactics to deal with huge file"
   ]
  },
  {
   "cell_type": "code",
   "execution_count": 12,
   "metadata": {
    "collapsed": true
   },
   "outputs": [],
   "source": [
    "# %%bash\n",
    "# head -1 yelp_academic_dataset_review.json"
   ]
  },
  {
   "cell_type": "code",
   "execution_count": 13,
   "metadata": {
    "collapsed": false
   },
   "outputs": [],
   "source": [
    "# %%bash\n",
    "# head -1 yelp_academic_dataset_review.json > output.txt"
   ]
  },
  {
   "cell_type": "code",
   "execution_count": 14,
   "metadata": {
    "collapsed": false
   },
   "outputs": [],
   "source": [
    "# %%bash\n",
    "# echo -e output.csv"
   ]
  },
  {
   "cell_type": "code",
   "execution_count": 15,
   "metadata": {
    "collapsed": true
   },
   "outputs": [],
   "source": [
    "# %%bash\n",
    "# cat yelp_academic_dataset_review.json | cut -d \\, -f 6 > stars.csv"
   ]
  },
  {
   "cell_type": "code",
   "execution_count": 16,
   "metadata": {
    "collapsed": false
   },
   "outputs": [],
   "source": [
    "# %%bash\n",
    "# cat yelp_academic_dataset_review.json | cut -d \\, -f 8 > review.txt"
   ]
  },
  {
   "cell_type": "code",
   "execution_count": 17,
   "metadata": {
    "collapsed": false
   },
   "outputs": [],
   "source": [
    "# %%bash\n",
    "# cat yelp_academic_dataset_review.json | cut -d \\: -f 10 > review.csv"
   ]
  },
  {
   "cell_type": "code",
   "execution_count": 18,
   "metadata": {
    "collapsed": false
   },
   "outputs": [],
   "source": [
    "# %%bash\n",
    "\n",
    "# grep -e '^{\"' yelp_academic_dataset_review.json"
   ]
  },
  {
   "cell_type": "code",
   "execution_count": 19,
   "metadata": {
    "collapsed": false
   },
   "outputs": [],
   "source": [
    "# with open('yelp_academic_dataset_review.json','rU') as f:\n",
    "#     data = json.load(f)"
   ]
  },
  {
   "cell_type": "code",
   "execution_count": 20,
   "metadata": {
    "collapsed": true
   },
   "outputs": [],
   "source": [
    "# for prefix, the_type, value in ijson.parse(open('yelp_academic_dataset_review.json')):\n",
    "# #     if the_type == 'map_key':\n",
    "# #         if value == 'stars':\n",
    "# #         print the_type, value\n",
    "#     print prefix, the_type, value"
   ]
  },
  {
   "cell_type": "code",
   "execution_count": 21,
   "metadata": {
    "collapsed": false
   },
   "outputs": [],
   "source": [
    "# df = pd.read_csv('stars.csv',names=['Stars','Text'])"
   ]
  },
  {
   "cell_type": "code",
   "execution_count": 22,
   "metadata": {
    "collapsed": false
   },
   "outputs": [],
   "source": [
    "# df['Stars'] = df['Stars'].map(lambda x: str(x)[-1])"
   ]
  },
  {
   "cell_type": "code",
   "execution_count": 23,
   "metadata": {
    "collapsed": true
   },
   "outputs": [],
   "source": [
    "# df"
   ]
  },
  {
   "cell_type": "code",
   "execution_count": 24,
   "metadata": {
    "collapsed": true
   },
   "outputs": [],
   "source": [
    "# df2 = pd.read_csv('review.csv')"
   ]
  },
  {
   "cell_type": "code",
   "execution_count": 25,
   "metadata": {
    "collapsed": true
   },
   "outputs": [],
   "source": [
    "# parser = ijson.parse(open('yelp_academic_dataset_review.json'))\n",
    "# reviews = []\n",
    "# for prefix, event, value in parser:\n",
    "#     if (prefix, event) == ('start_map','map_key'):\n",
    "#         reviews.append(value)\n",
    "# # stream.write('</yelp>')\n",
    "# reviews"
   ]
  },
  {
   "cell_type": "code",
   "execution_count": 26,
   "metadata": {
    "collapsed": true
   },
   "outputs": [],
   "source": [
    "# def load_json(filename):\n",
    "#     with open(filename, 'r') as fd:\n",
    "#         parser = ijson.parse(fd)\n",
    "#         ret = {'stars':{}}\n",
    "#         for prefix, event, value in parser:\n",
    "#             if (prefix, event) == ('stars', 'map_key'):\n",
    "#                 star_amount = value\n",
    "#                 ret['stars'][star_amount] = {}\n",
    "#         return ret"
   ]
  },
  {
   "cell_type": "code",
   "execution_count": 27,
   "metadata": {
    "collapsed": true
   },
   "outputs": [],
   "source": [
    "# df = pd.DataFrame(columns=['stars','text'])\n",
    "\n",
    "# with open('yelp_academic_dataset_review.json','rU') as f:\n",
    "#     for line in f:\n",
    "#         data = json.loads(line)\n",
    "        \n",
    "# result = json_normalize(data, ['stars', 'text'])\n",
    "# # df['stars'] = data['stars']\n",
    "# # df['text'] = data['text']"
   ]
  },
  {
   "cell_type": "markdown",
   "metadata": {
    "collapsed": false
   },
   "source": [
    "## Iteratively load json's line by line"
   ]
  },
  {
   "cell_type": "code",
   "execution_count": null,
   "metadata": {
    "collapsed": false
   },
   "outputs": [],
   "source": [
    "# data = []\n",
    "# for line in open('yelp_academic_dataset_review.json','rU'):\n",
    "#     data.append(json.loads(line))\n",
    "# data"
   ]
  },
  {
   "cell_type": "code",
   "execution_count": 29,
   "metadata": {
    "collapsed": true
   },
   "outputs": [
    {
     "name": "stdout",
     "output_type": "stream",
     "text": [
      "(4, u'Mr Hoagie is an institution. Walking in, it does seem like a throwback to 30 years ago, old fashioned menu board, booths out of the 70s, and a large selection of food. Their speciality is the Italian Hoagie, and it is voted the best in the area year after year. I usually order the burger, while the patties are obviously cooked from frozen, all of the other ingredients are very fresh. Overall, its a good alternative to Subway, which is down the road.')\n"
     ]
    }
   ],
   "source": [
    "data = []\n",
    "with open('yelp_academic_dataset_review.json','rU') as reviews:\n",
    "#     i = 0\n",
    "#     while i < 10000:\n",
    "    \n",
    "    first_line = json.loads(reviews.readline())\n",
    "    print (first_line['stars'], first_line['text'])\n",
    "#         i += 1\n"
   ]
  },
  {
   "cell_type": "markdown",
   "metadata": {},
   "source": [
    "## Create training set from first 10,000 reviews, testing set from the next 5,000 reviews:"
   ]
  },
  {
   "cell_type": "code",
   "execution_count": 145,
   "metadata": {
    "collapsed": false
   },
   "outputs": [],
   "source": [
    "# data = []\n",
    "# with open('yelp_academic_dataset_review.json','rU') as reviews:\n",
    "#     i = 0\n",
    "#     while i < 10000:\n",
    "#         first_line = json.loads(reviews.readline())\n",
    "#         if first_line['stars'] != 3:\n",
    "#             data.append([first_line['stars'], first_line['text']])\n",
    "#         i += 1\n",
    "# # data"
   ]
  },
  {
   "cell_type": "code",
   "execution_count": 158,
   "metadata": {
    "collapsed": true
   },
   "outputs": [],
   "source": [
    "data = []\n",
    "data_test = []\n",
    "with open('yelp_academic_dataset_review.json','rU') as reviews:\n",
    "    i = 0\n",
    "    while i < 10000:\n",
    "        first_line = json.loads(reviews.readline())\n",
    "        if first_line['stars'] != 3:\n",
    "            if first_line['stars'] < 3:\n",
    "                first_line['stars'] = 1\n",
    "            else:\n",
    "                first_line['stars'] = 5\n",
    "            data.append([first_line['stars'], first_line['text']])\n",
    "        i += 1\n",
    "    while 9999 <= i < 15000:\n",
    "        first_line = json.loads(reviews.readline())\n",
    "        if first_line['stars'] != 3:\n",
    "            if first_line['stars'] < 3:\n",
    "                first_line['stars'] = 1\n",
    "            else:\n",
    "                first_line['stars'] = 5\n",
    "            data_test.append([first_line['stars'], first_line['text']])\n",
    "        i += 1\n",
    "\n",
    "# data_test"
   ]
  },
  {
   "cell_type": "markdown",
   "metadata": {},
   "source": [
    "## Sort reviews by star number, make dataframes:"
   ]
  },
  {
   "cell_type": "code",
   "execution_count": 147,
   "metadata": {
    "collapsed": false
   },
   "outputs": [],
   "source": [
    "df = pd.DataFrame(data, columns = ['stars','text']).sort('stars')\n",
    "df.reset_index(drop=True, inplace=True)"
   ]
  },
  {
   "cell_type": "code",
   "execution_count": 148,
   "metadata": {
    "collapsed": false,
    "scrolled": true
   },
   "outputs": [
    {
     "data": {
      "text/html": [
       "<div>\n",
       "<table border=\"1\" class=\"dataframe\">\n",
       "  <thead>\n",
       "    <tr style=\"text-align: right;\">\n",
       "      <th></th>\n",
       "      <th>stars</th>\n",
       "      <th>text</th>\n",
       "    </tr>\n",
       "  </thead>\n",
       "  <tbody>\n",
       "    <tr>\n",
       "      <th>0</th>\n",
       "      <td>1</td>\n",
       "      <td>just got off the phone with a lady from constr...</td>\n",
       "    </tr>\n",
       "    <tr>\n",
       "      <th>1</th>\n",
       "      <td>1</td>\n",
       "      <td>everything is a cluster.  the store.  the park...</td>\n",
       "    </tr>\n",
       "    <tr>\n",
       "      <th>2</th>\n",
       "      <td>1</td>\n",
       "      <td>The preparation was fast and the price was ver...</td>\n",
       "    </tr>\n",
       "    <tr>\n",
       "      <th>3</th>\n",
       "      <td>1</td>\n",
       "      <td>MEAN CUSTOMERS -ALOOF WORKERS+GOOD FOOD = CRAZ...</td>\n",
       "    </tr>\n",
       "    <tr>\n",
       "      <th>4</th>\n",
       "      <td>1</td>\n",
       "      <td>This is by far the worst Chinese food I have e...</td>\n",
       "    </tr>\n",
       "  </tbody>\n",
       "</table>\n",
       "</div>"
      ],
      "text/plain": [
       "   stars                                               text\n",
       "0      1  just got off the phone with a lady from constr...\n",
       "1      1  everything is a cluster.  the store.  the park...\n",
       "2      1  The preparation was fast and the price was ver...\n",
       "3      1  MEAN CUSTOMERS -ALOOF WORKERS+GOOD FOOD = CRAZ...\n",
       "4      1  This is by far the worst Chinese food I have e..."
      ]
     },
     "execution_count": 148,
     "metadata": {},
     "output_type": "execute_result"
    }
   ],
   "source": [
    "df.head()"
   ]
  },
  {
   "cell_type": "code",
   "execution_count": 150,
   "metadata": {
    "collapsed": false
   },
   "outputs": [],
   "source": [
    "df_testing = pd.DataFrame(data_test, columns = ['stars','text']).sort('stars')\n",
    "df_testing.reset_index(drop=True, inplace=True)"
   ]
  },
  {
   "cell_type": "code",
   "execution_count": 149,
   "metadata": {
    "collapsed": false
   },
   "outputs": [
    {
     "data": {
      "text/html": [
       "<div>\n",
       "<table border=\"1\" class=\"dataframe\">\n",
       "  <thead>\n",
       "    <tr style=\"text-align: right;\">\n",
       "      <th></th>\n",
       "      <th>stars</th>\n",
       "      <th>text</th>\n",
       "    </tr>\n",
       "  </thead>\n",
       "  <tbody>\n",
       "    <tr>\n",
       "      <th>0</th>\n",
       "      <td>1</td>\n",
       "      <td>I can't properly review the food or beverage s...</td>\n",
       "    </tr>\n",
       "    <tr>\n",
       "      <th>1</th>\n",
       "      <td>1</td>\n",
       "      <td>Owner is rude and condescending\\nOverpriced co...</td>\n",
       "    </tr>\n",
       "    <tr>\n",
       "      <th>2</th>\n",
       "      <td>1</td>\n",
       "      <td>The two stars are for the food only. Otherwise...</td>\n",
       "    </tr>\n",
       "    <tr>\n",
       "      <th>3</th>\n",
       "      <td>1</td>\n",
       "      <td>Should be called crappys. So disappointed in f...</td>\n",
       "    </tr>\n",
       "    <tr>\n",
       "      <th>4</th>\n",
       "      <td>1</td>\n",
       "      <td>The food was terrible. I would rather have eat...</td>\n",
       "    </tr>\n",
       "  </tbody>\n",
       "</table>\n",
       "</div>"
      ],
      "text/plain": [
       "   stars                                               text\n",
       "0      1  I can't properly review the food or beverage s...\n",
       "1      1  Owner is rude and condescending\\nOverpriced co...\n",
       "2      1  The two stars are for the food only. Otherwise...\n",
       "3      1  Should be called crappys. So disappointed in f...\n",
       "4      1  The food was terrible. I would rather have eat..."
      ]
     },
     "execution_count": 149,
     "metadata": {},
     "output_type": "execute_result"
    }
   ],
   "source": [
    "df_testing.head()"
   ]
  },
  {
   "cell_type": "markdown",
   "metadata": {},
   "source": [
    "## Clean text for Bag-of-Words:"
   ]
  },
  {
   "cell_type": "code",
   "execution_count": 34,
   "metadata": {
    "collapsed": true
   },
   "outputs": [
    {
     "name": "stderr",
     "output_type": "stream",
     "text": [
      "/Users/jacobmink/anaconda/lib/python2.7/site-packages/bs4/__init__.py:166: UserWarning: No parser was explicitly specified, so I'm using the best available HTML parser for this system (\"lxml\"). This usually isn't a problem, but if you run this code on another system, or in a different virtual environment, it may use a different parser and behave differently.\n",
      "\n",
      "To get rid of this warning, change this:\n",
      "\n",
      " BeautifulSoup([your markup])\n",
      "\n",
      "to this:\n",
      "\n",
      " BeautifulSoup([your markup], \"lxml\")\n",
      "\n",
      "  markup_type=markup_type))\n"
     ]
    },
    {
     "data": {
      "text/plain": [
       "u'STAY AWAY...\\nWe\\'ve been 3 times over the past few years, each time we say \"let\\'s try it again\" followed by \"wish we\\'d done something else\".\\n\\nReminds me of the movie line \"Run away, run very far away\"\\n\\nLast nite after Steelers/Jets was last straw. I hope the owner or general manager reads this. And think the health department should too.\\n\\nService is mediocre and slow. consistently. Waitress was ok in attitude.\\n\\nAfter our soup starter (good french onion soup) we waited and waited and waited and waited for our mains. Noticing us staring at her, waitress stopped by, went into kitchen, came back and said we were next. my watch said 8:31. Then her manager came by and argued with me and said we were next, then at 8:52pm the horrible food finally arrived. That\\'s 21 minutes to be next. In that time we watched 4 tables turn from being seated to drinks to mains to check down while we waited for our main. \\n\\nManager embarrassed himself. Said they were busy and working our food and he had checked and would come soon. I told him about the 4 tables turning and he said no they didn\\'t. then I said I used to manage restaurants and know what customer service and ticket times are and he challenged me and said no I didn;t and I had no idea what I was talking about. What an idiot! First rule of restaurant business is the customer is always right.\\n\\nThen the food arrived. How hard is it to do chicken marsala with mushrooms, seriously? It was two soggy fried chicken tenders from the deep fryer (not pan sauteed) over a bowl of bowtie pasta with shrooms and a sauce. While the sauce did have some marsala in it, it was full of sour cream and tasted like stroganoff and a little funny. The Penne ala vodka was sauteed canned tomatoes and no flavor. We were so hungry we ate most and left.\\n\\n1 hour later I was sick on the side of the road from the dinner and still feel really rough this morning.'"
      ]
     },
     "execution_count": 34,
     "metadata": {},
     "output_type": "execute_result"
    }
   ],
   "source": [
    "example1 = BeautifulSoup(df['text'][75])\n",
    "example1.get_text()"
   ]
  },
  {
   "cell_type": "code",
   "execution_count": 35,
   "metadata": {
    "collapsed": false
   },
   "outputs": [],
   "source": [
    "def review_to_words(raw_review):\n",
    "    #     1) Remove HTML:\n",
    "    review_text = BeautifulSoup(raw_review).get_text()\n",
    "    #     2) Remove non-letters:\n",
    "    letters_only = re.sub('[^a-zA-Z]',' ', review_text)\n",
    "    #     3) Convert to lower case, split into words:\n",
    "    words = letters_only.lower().split()\n",
    "    #     4) Convert stopwords to set:\n",
    "    stops = set(stopwords.words('english'))\n",
    "    #     5) Remove stopwords:\n",
    "    meaningful_words = [w for w in words if not w in stops]\n",
    "    #     6) Join words back into one string separated by space:\n",
    "    return( ' '.join(meaningful_words))"
   ]
  },
  {
   "cell_type": "code",
   "execution_count": 36,
   "metadata": {
    "collapsed": true
   },
   "outputs": [
    {
     "data": {
      "text/plain": [
       "u'moment walked knew interesting experience instead greeted smiling friendly hi welcome cains greeted frantically working unhelpful stressed hostess clue deal influx people breakfast rush walked hostess told us would minutes kitchen prepare food since known cains delicious breakfast thought wait would worth hour fifteen minutes later get food breakfast burrito tasted like nothing food cold good thing experience warm donuts poor service crappy food overall way restaurant run'"
      ]
     },
     "execution_count": 36,
     "metadata": {},
     "output_type": "execute_result"
    }
   ],
   "source": [
    "clean_example = review_to_words(df['text'][0])\n",
    "clean_example"
   ]
  },
  {
   "cell_type": "code",
   "execution_count": 37,
   "metadata": {
    "collapsed": false
   },
   "outputs": [
    {
     "data": {
      "text/plain": [
       "8429"
      ]
     },
     "execution_count": 37,
     "metadata": {},
     "output_type": "execute_result"
    }
   ],
   "source": [
    "num_reviews = df['text'].size\n",
    "num_reviews"
   ]
  },
  {
   "cell_type": "code",
   "execution_count": 60,
   "metadata": {
    "collapsed": false
   },
   "outputs": [
    {
     "data": {
      "text/plain": [
       "4273"
      ]
     },
     "execution_count": 60,
     "metadata": {},
     "output_type": "execute_result"
    }
   ],
   "source": [
    "num_test_reviews = df_testing['text'].size\n",
    "num_test_reviews"
   ]
  },
  {
   "cell_type": "code",
   "execution_count": 107,
   "metadata": {
    "collapsed": false
   },
   "outputs": [
    {
     "name": "stdout",
     "output_type": "stream",
     "text": [
      "Cleaning and parsing the training set Yelp reviews...\n",
      "\n",
      "Review 1000 of 8429\n",
      "\n",
      "Review 2000 of 8429\n",
      "\n",
      "Review 3000 of 8429\n",
      "\n",
      "Review 4000 of 8429\n",
      "\n",
      "Review 5000 of 8429\n",
      "\n",
      "Review 6000 of 8429\n",
      "\n",
      "Review 7000 of 8429\n",
      "\n",
      "Review 8000 of 8429\n",
      "\n"
     ]
    }
   ],
   "source": [
    "print \"Cleaning and parsing the training set Yelp reviews...\\n\"\n",
    "clean_train_reviews = []\n",
    "for i in xrange(0, num_reviews):\n",
    "    if (i+1)%1000 == 0:\n",
    "        print \"Review %d of %d\\n\" % (i+1,num_reviews)\n",
    "    clean_train_reviews.append(review_to_words(df['text'][i]))"
   ]
  },
  {
   "cell_type": "code",
   "execution_count": 93,
   "metadata": {
    "collapsed": false
   },
   "outputs": [
    {
     "name": "stdout",
     "output_type": "stream",
     "text": [
      "Cleaning and parsing the testing set Yelp reviews...\n",
      "\n",
      "Review 1000 of 4273\n",
      "\n",
      "Review 2000 of 4273\n",
      "\n",
      "Review 3000 of 4273\n",
      "\n",
      "Review 4000 of 4273\n",
      "\n"
     ]
    }
   ],
   "source": [
    "print \"Cleaning and parsing the testing set Yelp reviews...\\n\"\n",
    "clean_test_reviews = []\n",
    "for i in xrange(0, num_test_reviews):\n",
    "    if (i+1)%1000 == 0:\n",
    "        print \"Review %d of %d\\n\" % (i+1,num_test_reviews)\n",
    "    clean_test_reviews.append(review_to_words(df_testing['text'][i]))"
   ]
  },
  {
   "cell_type": "code",
   "execution_count": 152,
   "metadata": {
    "collapsed": true
   },
   "outputs": [
    {
     "data": {
      "text/plain": [
       "u'properly review food beverage selections since never actually got seated came part large group specifically chose harris grill could handle crowd arrived lounge area clearly designed seat people occupied precisely two individuals right two people leisurely sipping drinks host informed us entered would leaving soon half hour later ordered another drink seemed making small talk host clearly friend begs question earth would host seat two people party section came two possible answers restaurant hates money hired worst host pittsburgh returning harris grill sometime month try food looked smelled amazing whisked past plates destined tables response comment wrote review call attention business practice seems mutually detrimental restaurant customer hold grudges willing treat experience one'"
      ]
     },
     "execution_count": 152,
     "metadata": {},
     "output_type": "execute_result"
    }
   ],
   "source": [
    "clean_test_reviews[0]"
   ]
  },
  {
   "cell_type": "code",
   "execution_count": 153,
   "metadata": {
    "collapsed": true
   },
   "outputs": [
    {
     "data": {
      "text/plain": [
       "u'got phone lady construction junction normally best experiences cooperative helpful guess successful becoming arrogant rub hubby sent picture chandelier see picture minutes later left store called buy chandelier phone done construction junction junkies lady adamantly refused help adamantly refuesed even listen description fixture gave following excuses well last years know place works go back try find want one floor first come first serve husband comes still sell know one many back could hear smirk voice enjoyed blowing even offered send picture husband sent via email refused keep mind wanted pay item husband cannot go back construction junction today likely item gone would nice sales agent helpful especially clear badly wanted buy fixture express concern whatsoever requests like sorry help moment please call back try accomodate give brief description try find etc sometimes even accomodate someone say makes difference construction junction implode begins treat customers indifferently'"
      ]
     },
     "execution_count": 153,
     "metadata": {},
     "output_type": "execute_result"
    }
   ],
   "source": [
    "clean_train_reviews[0]"
   ]
  },
  {
   "cell_type": "markdown",
   "metadata": {},
   "source": [
    "## Vectorize word counts, train on training set:"
   ]
  },
  {
   "cell_type": "code",
   "execution_count": 108,
   "metadata": {
    "collapsed": true
   },
   "outputs": [],
   "source": [
    "vectorizer = CountVectorizer(analyzer='word',\n",
    "                             tokenizer=None,\n",
    "                             preprocessor=None,\n",
    "                             stop_words=None,\n",
    "                             max_features=5000)\n",
    "\n",
    "train_data_features = vectorizer.fit_transform(clean_train_reviews)\n",
    "train_data_features = train_data_features.toarray()"
   ]
  },
  {
   "cell_type": "markdown",
   "metadata": {},
   "source": [
    "## Vectorize testing set words:"
   ]
  },
  {
   "cell_type": "code",
   "execution_count": 97,
   "metadata": {
    "collapsed": true
   },
   "outputs": [],
   "source": [
    "test_data_features = vectorizer.transform(clean_test_reviews)\n",
    "test_data_features = test_data_features.toarray()"
   ]
  },
  {
   "cell_type": "code",
   "execution_count": 102,
   "metadata": {
    "collapsed": false
   },
   "outputs": [
    {
     "data": {
      "text/plain": [
       "(4273, 5000)"
      ]
     },
     "execution_count": 102,
     "metadata": {},
     "output_type": "execute_result"
    }
   ],
   "source": [
    "test_data_features.shape"
   ]
  },
  {
   "cell_type": "code",
   "execution_count": 101,
   "metadata": {
    "collapsed": false
   },
   "outputs": [
    {
     "data": {
      "text/plain": [
       "(8429, 5000)"
      ]
     },
     "execution_count": 101,
     "metadata": {},
     "output_type": "execute_result"
    }
   ],
   "source": [
    "train_data_features.shape"
   ]
  },
  {
   "cell_type": "code",
   "execution_count": 154,
   "metadata": {
    "collapsed": false,
    "scrolled": true
   },
   "outputs": [
    {
     "data": {
      "text/plain": [
       "[u'aamco',\n",
       " u'ability',\n",
       " u'able',\n",
       " u'absolute',\n",
       " u'absolutely',\n",
       " u'ac',\n",
       " u'accent',\n",
       " u'accept',\n",
       " u'acceptable',\n",
       " u'accepted',\n",
       " u'access',\n",
       " u'accessible',\n",
       " u'accessories',\n",
       " u'accident',\n",
       " u'accidentally',\n",
       " u'accommodate',\n",
       " u'accommodated',\n",
       " u'accommodating',\n",
       " u'accomodate']"
      ]
     },
     "execution_count": 154,
     "metadata": {},
     "output_type": "execute_result"
    }
   ],
   "source": [
    "vocab = vectorizer.get_feature_names()\n",
    "vocab[1:20]"
   ]
  },
  {
   "cell_type": "code",
   "execution_count": 155,
   "metadata": {
    "collapsed": false,
    "scrolled": true
   },
   "outputs": [
    {
     "name": "stdout",
     "output_type": "stream",
     "text": [
      "17 aamco\n",
      "13 ability\n",
      "18 able\n",
      "381 absolute\n",
      "59 absolutely\n",
      "381 ac\n",
      "20 accent\n",
      "9 accept\n",
      "37 acceptable\n",
      "34 accepted\n",
      "10 access\n",
      "39 accessible\n",
      "18 accessories\n",
      "10 accident\n",
      "29 accidentally\n",
      "12 accommodate\n",
      "35 accommodated\n",
      "13 accommodating\n",
      "78 accomodate\n"
     ]
    }
   ],
   "source": [
    "dist = np.sum(train_data_features, axis=0)\n",
    "for tag, count in zip(vocab[1:20], dist):\n",
    "    print count, tag"
   ]
  },
  {
   "cell_type": "markdown",
   "metadata": {},
   "source": [
    "## Generate random forest model:"
   ]
  },
  {
   "cell_type": "code",
   "execution_count": 109,
   "metadata": {
    "collapsed": false,
    "scrolled": true
   },
   "outputs": [
    {
     "name": "stdout",
     "output_type": "stream",
     "text": [
      "Training the random forest...\n"
     ]
    }
   ],
   "source": [
    "print 'Training the random forest...'\n",
    "\n",
    "forest = RandomForestClassifier(n_estimators=100)\n",
    "forest = forest.fit(train_data_features, df['stars'])"
   ]
  },
  {
   "cell_type": "code",
   "execution_count": 110,
   "metadata": {
    "collapsed": false
   },
   "outputs": [
    {
     "name": "stdout",
     "output_type": "stream",
     "text": [
      "Testing using the random forest...\n"
     ]
    }
   ],
   "source": [
    "print 'Testing using the random forest...'\n",
    "result = forest.predict(test_data_features)\n",
    "output = pd.DataFrame(data={'text':df_testing['text'],'stars_pred':result})"
   ]
  },
  {
   "cell_type": "code",
   "execution_count": 111,
   "metadata": {
    "collapsed": true
   },
   "outputs": [
    {
     "data": {
      "text/html": [
       "<div>\n",
       "<table border=\"1\" class=\"dataframe\">\n",
       "  <thead>\n",
       "    <tr style=\"text-align: right;\">\n",
       "      <th></th>\n",
       "      <th>stars_pred</th>\n",
       "      <th>text</th>\n",
       "    </tr>\n",
       "  </thead>\n",
       "  <tbody>\n",
       "    <tr>\n",
       "      <th>0</th>\n",
       "      <td>1</td>\n",
       "      <td>I can't properly review the food or beverage s...</td>\n",
       "    </tr>\n",
       "    <tr>\n",
       "      <th>1</th>\n",
       "      <td>1</td>\n",
       "      <td>Owner is rude and condescending\\nOverpriced co...</td>\n",
       "    </tr>\n",
       "    <tr>\n",
       "      <th>2</th>\n",
       "      <td>1</td>\n",
       "      <td>The two stars are for the food only. Otherwise...</td>\n",
       "    </tr>\n",
       "    <tr>\n",
       "      <th>3</th>\n",
       "      <td>1</td>\n",
       "      <td>Should be called crappys. So disappointed in f...</td>\n",
       "    </tr>\n",
       "    <tr>\n",
       "      <th>4</th>\n",
       "      <td>1</td>\n",
       "      <td>The food was terrible. I would rather have eat...</td>\n",
       "    </tr>\n",
       "    <tr>\n",
       "      <th>5</th>\n",
       "      <td>1</td>\n",
       "      <td>I'd give this joint zero stars if it was possi...</td>\n",
       "    </tr>\n",
       "    <tr>\n",
       "      <th>6</th>\n",
       "      <td>1</td>\n",
       "      <td>Horrible service. Waited 50 minutes and had no...</td>\n",
       "    </tr>\n",
       "    <tr>\n",
       "      <th>7</th>\n",
       "      <td>1</td>\n",
       "      <td>Machines are dirty. Ruined my pants and then t...</td>\n",
       "    </tr>\n",
       "    <tr>\n",
       "      <th>8</th>\n",
       "      <td>5</td>\n",
       "      <td>In my opinion, the is a prime example of a bad...</td>\n",
       "    </tr>\n",
       "    <tr>\n",
       "      <th>9</th>\n",
       "      <td>1</td>\n",
       "      <td>So I don't know about the actual work of this ...</td>\n",
       "    </tr>\n",
       "    <tr>\n",
       "      <th>10</th>\n",
       "      <td>1</td>\n",
       "      <td>I went to this dentist three times - twice for...</td>\n",
       "    </tr>\n",
       "    <tr>\n",
       "      <th>11</th>\n",
       "      <td>1</td>\n",
       "      <td>I made an appointment weeks ago.  Three days a...</td>\n",
       "    </tr>\n",
       "    <tr>\n",
       "      <th>12</th>\n",
       "      <td>5</td>\n",
       "      <td>Watch this one.  Aside from paying the price f...</td>\n",
       "    </tr>\n",
       "    <tr>\n",
       "      <th>13</th>\n",
       "      <td>5</td>\n",
       "      <td>Stay away from this one!!! She is a crook and ...</td>\n",
       "    </tr>\n",
       "    <tr>\n",
       "      <th>14</th>\n",
       "      <td>1</td>\n",
       "      <td>The receptionist told me I cannot use my insur...</td>\n",
       "    </tr>\n",
       "    <tr>\n",
       "      <th>15</th>\n",
       "      <td>1</td>\n",
       "      <td>I came\\nHere for breakfast so When you first w...</td>\n",
       "    </tr>\n",
       "    <tr>\n",
       "      <th>16</th>\n",
       "      <td>1</td>\n",
       "      <td>My experience at this laundromat definitely ha...</td>\n",
       "    </tr>\n",
       "    <tr>\n",
       "      <th>17</th>\n",
       "      <td>1</td>\n",
       "      <td>I agree 100% on Maggie G's review. Over priced...</td>\n",
       "    </tr>\n",
       "    <tr>\n",
       "      <th>18</th>\n",
       "      <td>5</td>\n",
       "      <td>You get what you pay for. Went for brunch and ...</td>\n",
       "    </tr>\n",
       "    <tr>\n",
       "      <th>19</th>\n",
       "      <td>1</td>\n",
       "      <td>A year later, prices have increased 70% and th...</td>\n",
       "    </tr>\n",
       "    <tr>\n",
       "      <th>20</th>\n",
       "      <td>5</td>\n",
       "      <td>The Laundry Factory is no longer the clean, fr...</td>\n",
       "    </tr>\n",
       "    <tr>\n",
       "      <th>21</th>\n",
       "      <td>1</td>\n",
       "      <td>The cakes n cookies get a 4 star but the staff...</td>\n",
       "    </tr>\n",
       "    <tr>\n",
       "      <th>22</th>\n",
       "      <td>1</td>\n",
       "      <td>The crepes served by this establishment might ...</td>\n",
       "    </tr>\n",
       "    <tr>\n",
       "      <th>23</th>\n",
       "      <td>1</td>\n",
       "      <td>The crepes here are good. They are tasty and t...</td>\n",
       "    </tr>\n",
       "    <tr>\n",
       "      <th>24</th>\n",
       "      <td>5</td>\n",
       "      <td>The Savory crepes were better than the sweet c...</td>\n",
       "    </tr>\n",
       "    <tr>\n",
       "      <th>25</th>\n",
       "      <td>5</td>\n",
       "      <td>Let me start this by saying I got on the wrong...</td>\n",
       "    </tr>\n",
       "    <tr>\n",
       "      <th>26</th>\n",
       "      <td>1</td>\n",
       "      <td>French crepes are not the easiest food item to...</td>\n",
       "    </tr>\n",
       "    <tr>\n",
       "      <th>27</th>\n",
       "      <td>5</td>\n",
       "      <td>Closed on Monday's? And closed 5/30 to 6/1? Wo...</td>\n",
       "    </tr>\n",
       "    <tr>\n",
       "      <th>28</th>\n",
       "      <td>1</td>\n",
       "      <td>They only deliver through WheelDeliver.com</td>\n",
       "    </tr>\n",
       "    <tr>\n",
       "      <th>29</th>\n",
       "      <td>1</td>\n",
       "      <td>This review is just about the dry cleaning: I ...</td>\n",
       "    </tr>\n",
       "    <tr>\n",
       "      <th>...</th>\n",
       "      <td>...</td>\n",
       "      <td>...</td>\n",
       "    </tr>\n",
       "    <tr>\n",
       "      <th>4243</th>\n",
       "      <td>5</td>\n",
       "      <td>If you want fresh sushi/sashimi this is the pl...</td>\n",
       "    </tr>\n",
       "    <tr>\n",
       "      <th>4244</th>\n",
       "      <td>5</td>\n",
       "      <td>I've dined here thrice now, sushi on every vis...</td>\n",
       "    </tr>\n",
       "    <tr>\n",
       "      <th>4245</th>\n",
       "      <td>5</td>\n",
       "      <td>This is a reliable Japanese restaurant in upto...</td>\n",
       "    </tr>\n",
       "    <tr>\n",
       "      <th>4246</th>\n",
       "      <td>5</td>\n",
       "      <td>I love this place!! I'm not a sushi fan, so I ...</td>\n",
       "    </tr>\n",
       "    <tr>\n",
       "      <th>4247</th>\n",
       "      <td>5</td>\n",
       "      <td>We hit Little Tokyo for lunch about once a wee...</td>\n",
       "    </tr>\n",
       "    <tr>\n",
       "      <th>4248</th>\n",
       "      <td>5</td>\n",
       "      <td>Good experience, will def. come back if I'm in...</td>\n",
       "    </tr>\n",
       "    <tr>\n",
       "      <th>4249</th>\n",
       "      <td>5</td>\n",
       "      <td>Great service, nice prices, stylish atmosphere...</td>\n",
       "    </tr>\n",
       "    <tr>\n",
       "      <th>4250</th>\n",
       "      <td>5</td>\n",
       "      <td>I refuse to eat sushi in southwestern PA becau...</td>\n",
       "    </tr>\n",
       "    <tr>\n",
       "      <th>4251</th>\n",
       "      <td>5</td>\n",
       "      <td>I'm new to Pittsburgh and recently my girlfrie...</td>\n",
       "    </tr>\n",
       "    <tr>\n",
       "      <th>4252</th>\n",
       "      <td>5</td>\n",
       "      <td>Best sushi in Pittsburgh, hands down. \\n\\nThei...</td>\n",
       "    </tr>\n",
       "    <tr>\n",
       "      <th>4253</th>\n",
       "      <td>5</td>\n",
       "      <td>My husband and I ordered take out on a Saturda...</td>\n",
       "    </tr>\n",
       "    <tr>\n",
       "      <th>4254</th>\n",
       "      <td>5</td>\n",
       "      <td>Nice light and open restaurant with two dining...</td>\n",
       "    </tr>\n",
       "    <tr>\n",
       "      <th>4255</th>\n",
       "      <td>5</td>\n",
       "      <td>Little Tokyo is simply the best fish in the ci...</td>\n",
       "    </tr>\n",
       "    <tr>\n",
       "      <th>4256</th>\n",
       "      <td>5</td>\n",
       "      <td>The sushi here was great.  Everything tasted f...</td>\n",
       "    </tr>\n",
       "    <tr>\n",
       "      <th>4257</th>\n",
       "      <td>5</td>\n",
       "      <td>Being from San Francisco, sushi is a way of li...</td>\n",
       "    </tr>\n",
       "    <tr>\n",
       "      <th>4258</th>\n",
       "      <td>5</td>\n",
       "      <td>The sushi was very good. The atmosphere was si...</td>\n",
       "    </tr>\n",
       "    <tr>\n",
       "      <th>4259</th>\n",
       "      <td>5</td>\n",
       "      <td>Hands down, best sushi in the city.  I think t...</td>\n",
       "    </tr>\n",
       "    <tr>\n",
       "      <th>4260</th>\n",
       "      <td>5</td>\n",
       "      <td>Always a good sushi spot.  I've had sushi a lo...</td>\n",
       "    </tr>\n",
       "    <tr>\n",
       "      <th>4261</th>\n",
       "      <td>5</td>\n",
       "      <td>The sushi here was great! \\n\\nThe hibachi not ...</td>\n",
       "    </tr>\n",
       "    <tr>\n",
       "      <th>4262</th>\n",
       "      <td>5</td>\n",
       "      <td>This restaurant gets my vote for best sushi in...</td>\n",
       "    </tr>\n",
       "    <tr>\n",
       "      <th>4263</th>\n",
       "      <td>5</td>\n",
       "      <td>Craving sushi? Then this is the place to go. I...</td>\n",
       "    </tr>\n",
       "    <tr>\n",
       "      <th>4264</th>\n",
       "      <td>5</td>\n",
       "      <td>This is them most consistent sushi we have fou...</td>\n",
       "    </tr>\n",
       "    <tr>\n",
       "      <th>4265</th>\n",
       "      <td>5</td>\n",
       "      <td>Chopsticks down the best sushi in the burgh.  ...</td>\n",
       "    </tr>\n",
       "    <tr>\n",
       "      <th>4266</th>\n",
       "      <td>5</td>\n",
       "      <td>This is now my favorite sushi restaurant in th...</td>\n",
       "    </tr>\n",
       "    <tr>\n",
       "      <th>4267</th>\n",
       "      <td>5</td>\n",
       "      <td>Live like 15 mins away from LT so I come here ...</td>\n",
       "    </tr>\n",
       "    <tr>\n",
       "      <th>4268</th>\n",
       "      <td>5</td>\n",
       "      <td>Love the dragon roll.</td>\n",
       "    </tr>\n",
       "    <tr>\n",
       "      <th>4269</th>\n",
       "      <td>5</td>\n",
       "      <td>Some of the highest quality sushi you'll find ...</td>\n",
       "    </tr>\n",
       "    <tr>\n",
       "      <th>4270</th>\n",
       "      <td>5</td>\n",
       "      <td>Love their sushi here. You can't go wrong with...</td>\n",
       "    </tr>\n",
       "    <tr>\n",
       "      <th>4271</th>\n",
       "      <td>5</td>\n",
       "      <td>The best sushi in Pittsburgh, without question...</td>\n",
       "    </tr>\n",
       "    <tr>\n",
       "      <th>4272</th>\n",
       "      <td>5</td>\n",
       "      <td>Awesome pizza. A bit greasy, but in a tasty way.</td>\n",
       "    </tr>\n",
       "  </tbody>\n",
       "</table>\n",
       "<p>4273 rows × 2 columns</p>\n",
       "</div>"
      ],
      "text/plain": [
       "      stars_pred                                               text\n",
       "0              1  I can't properly review the food or beverage s...\n",
       "1              1  Owner is rude and condescending\\nOverpriced co...\n",
       "2              1  The two stars are for the food only. Otherwise...\n",
       "3              1  Should be called crappys. So disappointed in f...\n",
       "4              1  The food was terrible. I would rather have eat...\n",
       "5              1  I'd give this joint zero stars if it was possi...\n",
       "6              1  Horrible service. Waited 50 minutes and had no...\n",
       "7              1  Machines are dirty. Ruined my pants and then t...\n",
       "8              5  In my opinion, the is a prime example of a bad...\n",
       "9              1  So I don't know about the actual work of this ...\n",
       "10             1  I went to this dentist three times - twice for...\n",
       "11             1  I made an appointment weeks ago.  Three days a...\n",
       "12             5  Watch this one.  Aside from paying the price f...\n",
       "13             5  Stay away from this one!!! She is a crook and ...\n",
       "14             1  The receptionist told me I cannot use my insur...\n",
       "15             1  I came\\nHere for breakfast so When you first w...\n",
       "16             1  My experience at this laundromat definitely ha...\n",
       "17             1  I agree 100% on Maggie G's review. Over priced...\n",
       "18             5  You get what you pay for. Went for brunch and ...\n",
       "19             1  A year later, prices have increased 70% and th...\n",
       "20             5  The Laundry Factory is no longer the clean, fr...\n",
       "21             1  The cakes n cookies get a 4 star but the staff...\n",
       "22             1  The crepes served by this establishment might ...\n",
       "23             1  The crepes here are good. They are tasty and t...\n",
       "24             5  The Savory crepes were better than the sweet c...\n",
       "25             5  Let me start this by saying I got on the wrong...\n",
       "26             1  French crepes are not the easiest food item to...\n",
       "27             5  Closed on Monday's? And closed 5/30 to 6/1? Wo...\n",
       "28             1         They only deliver through WheelDeliver.com\n",
       "29             1  This review is just about the dry cleaning: I ...\n",
       "...          ...                                                ...\n",
       "4243           5  If you want fresh sushi/sashimi this is the pl...\n",
       "4244           5  I've dined here thrice now, sushi on every vis...\n",
       "4245           5  This is a reliable Japanese restaurant in upto...\n",
       "4246           5  I love this place!! I'm not a sushi fan, so I ...\n",
       "4247           5  We hit Little Tokyo for lunch about once a wee...\n",
       "4248           5  Good experience, will def. come back if I'm in...\n",
       "4249           5  Great service, nice prices, stylish atmosphere...\n",
       "4250           5  I refuse to eat sushi in southwestern PA becau...\n",
       "4251           5  I'm new to Pittsburgh and recently my girlfrie...\n",
       "4252           5  Best sushi in Pittsburgh, hands down. \\n\\nThei...\n",
       "4253           5  My husband and I ordered take out on a Saturda...\n",
       "4254           5  Nice light and open restaurant with two dining...\n",
       "4255           5  Little Tokyo is simply the best fish in the ci...\n",
       "4256           5  The sushi here was great.  Everything tasted f...\n",
       "4257           5  Being from San Francisco, sushi is a way of li...\n",
       "4258           5  The sushi was very good. The atmosphere was si...\n",
       "4259           5  Hands down, best sushi in the city.  I think t...\n",
       "4260           5  Always a good sushi spot.  I've had sushi a lo...\n",
       "4261           5  The sushi here was great! \\n\\nThe hibachi not ...\n",
       "4262           5  This restaurant gets my vote for best sushi in...\n",
       "4263           5  Craving sushi? Then this is the place to go. I...\n",
       "4264           5  This is them most consistent sushi we have fou...\n",
       "4265           5  Chopsticks down the best sushi in the burgh.  ...\n",
       "4266           5  This is now my favorite sushi restaurant in th...\n",
       "4267           5  Live like 15 mins away from LT so I come here ...\n",
       "4268           5                              Love the dragon roll.\n",
       "4269           5  Some of the highest quality sushi you'll find ...\n",
       "4270           5  Love their sushi here. You can't go wrong with...\n",
       "4271           5  The best sushi in Pittsburgh, without question...\n",
       "4272           5   Awesome pizza. A bit greasy, but in a tasty way.\n",
       "\n",
       "[4273 rows x 2 columns]"
      ]
     },
     "execution_count": 111,
     "metadata": {},
     "output_type": "execute_result"
    }
   ],
   "source": [
    "output"
   ]
  },
  {
   "cell_type": "markdown",
   "metadata": {},
   "source": [
    "## Evaluate model predictions:"
   ]
  },
  {
   "cell_type": "code",
   "execution_count": 156,
   "metadata": {
    "collapsed": false
   },
   "outputs": [],
   "source": [
    "difference = result - df_testing['stars']"
   ]
  },
  {
   "cell_type": "code",
   "execution_count": 143,
   "metadata": {
    "collapsed": false
   },
   "outputs": [],
   "source": [
    "length = float(len(df_testing['stars']))"
   ]
  },
  {
   "cell_type": "code",
   "execution_count": 142,
   "metadata": {
    "collapsed": false
   },
   "outputs": [
    {
     "data": {
      "text/plain": [
       "1.3052666543977181"
      ]
     },
     "execution_count": 142,
     "metadata": {},
     "output_type": "execute_result"
    }
   ],
   "source": [
    "rmse = (sum((difference)**2)/length)**0.5\n",
    "rmse"
   ]
  },
  {
   "cell_type": "code",
   "execution_count": 136,
   "metadata": {
    "collapsed": false
   },
   "outputs": [
    {
     "data": {
      "text/plain": [
       "1.7037210390826119"
      ]
     },
     "execution_count": 136,
     "metadata": {},
     "output_type": "execute_result"
    }
   ],
   "source": [
    "mse = sum((difference)**2)/length\n",
    "mse"
   ]
  },
  {
   "cell_type": "code",
   "execution_count": 140,
   "metadata": {
    "collapsed": false
   },
   "outputs": [
    {
     "data": {
      "text/plain": [
       "0.41126853965927612"
      ]
     },
     "execution_count": 140,
     "metadata": {},
     "output_type": "execute_result"
    }
   ],
   "source": [
    "r2 = sklearn.metrics.r2_score(df_testing['stars'], result)\n"
   ]
  },
  {
   "cell_type": "code",
   "execution_count": 141,
   "metadata": {
    "collapsed": false
   },
   "outputs": [
    {
     "data": {
      "text/plain": [
       "0.6413022217794635"
      ]
     },
     "execution_count": 141,
     "metadata": {},
     "output_type": "execute_result"
    }
   ],
   "source": [
    "r2**0.5"
   ]
  },
  {
   "cell_type": "code",
   "execution_count": 144,
   "metadata": {
    "collapsed": false
   },
   "outputs": [
    {
     "name": "stdout",
     "output_type": "stream",
     "text": [
      "R-squared value for random forest model: 0.411268539659\n",
      "Mean Squared Error value: 1.70372103908\n",
      "Root Mean Squared Error value: 1.3052666544\n"
     ]
    }
   ],
   "source": [
    "print 'R-squared value for random forest model: {}'.format(r2)\n",
    "print 'Mean Squared Error value: {}'.format(mse)\n",
    "print 'Root Mean Squared Error value: {}'.format(rmse)"
   ]
  },
  {
   "cell_type": "code",
   "execution_count": null,
   "metadata": {
    "collapsed": true
   },
   "outputs": [],
   "source": []
  },
  {
   "cell_type": "code",
   "execution_count": null,
   "metadata": {
    "collapsed": true
   },
   "outputs": [],
   "source": []
  },
  {
   "cell_type": "code",
   "execution_count": null,
   "metadata": {
    "collapsed": true
   },
   "outputs": [],
   "source": []
  },
  {
   "cell_type": "code",
   "execution_count": null,
   "metadata": {
    "collapsed": true
   },
   "outputs": [],
   "source": []
  },
  {
   "cell_type": "code",
   "execution_count": null,
   "metadata": {
    "collapsed": true
   },
   "outputs": [],
   "source": []
  },
  {
   "cell_type": "code",
   "execution_count": null,
   "metadata": {
    "collapsed": true
   },
   "outputs": [],
   "source": []
  },
  {
   "cell_type": "code",
   "execution_count": null,
   "metadata": {
    "collapsed": true
   },
   "outputs": [],
   "source": []
  },
  {
   "cell_type": "code",
   "execution_count": null,
   "metadata": {
    "collapsed": true
   },
   "outputs": [],
   "source": []
  }
 ],
 "metadata": {
  "kernelspec": {
   "display_name": "Python 2",
   "language": "python",
   "name": "python2"
  },
  "language_info": {
   "codemirror_mode": {
    "name": "ipython",
    "version": 2
   },
   "file_extension": ".py",
   "mimetype": "text/x-python",
   "name": "python",
   "nbconvert_exporter": "python",
   "pygments_lexer": "ipython2",
   "version": "2.7.11"
  }
 },
 "nbformat": 4,
 "nbformat_minor": 0
}
