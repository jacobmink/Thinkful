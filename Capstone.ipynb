{
 "cells": [
  {
   "cell_type": "markdown",
   "metadata": {},
   "source": [
    "# Capstone Project"
   ]
  },
  {
   "cell_type": "code",
   "execution_count": 124,
   "metadata": {
    "collapsed": false
   },
   "outputs": [],
   "source": [
    "import requests\n",
    "import random\n",
    "import pandas as pd\n",
    "import numpy as np\n",
    "import sqlite3 as lite\n",
    "from pandas.io.json import json_normalize\n",
    "import matplotlib.pyplot as plt\n",
    "import time\n",
    "import datetime\n",
    "from dateutil.parser import parse\n",
    "import collections\n",
    "import json\n",
    "import ijson\n",
    "from bs4 import BeautifulSoup\n",
    "import re\n",
    "import nltk\n",
    "from nltk.corpus import stopwords\n",
    "from sklearn.feature_extraction.text import CountVectorizer\n",
    "from sklearn.ensemble import RandomForestClassifier\n",
    "import sklearn.metrics as metrics\n",
    "from sklearn.cross_validation import KFold\n",
    "from sklearn.cross_validation import StratifiedKFold"
   ]
  },
  {
   "cell_type": "markdown",
   "metadata": {},
   "source": [
    "## Try some tactics to deal with huge file"
   ]
  },
  {
   "cell_type": "code",
   "execution_count": 50,
   "metadata": {
    "collapsed": true
   },
   "outputs": [],
   "source": [
    "# %%bash\n",
    "# head -1 yelp_academic_dataset_review.json"
   ]
  },
  {
   "cell_type": "code",
   "execution_count": 51,
   "metadata": {
    "collapsed": false
   },
   "outputs": [],
   "source": [
    "# %%bash\n",
    "# head -1 yelp_academic_dataset_review.json > output.txt"
   ]
  },
  {
   "cell_type": "code",
   "execution_count": 52,
   "metadata": {
    "collapsed": false
   },
   "outputs": [],
   "source": [
    "# %%bash\n",
    "# echo -e output.csv"
   ]
  },
  {
   "cell_type": "code",
   "execution_count": 53,
   "metadata": {
    "collapsed": true
   },
   "outputs": [],
   "source": [
    "# %%bash\n",
    "# cat yelp_academic_dataset_review.json | cut -d \\, -f 6 > stars.csv"
   ]
  },
  {
   "cell_type": "code",
   "execution_count": 54,
   "metadata": {
    "collapsed": false
   },
   "outputs": [],
   "source": [
    "# %%bash\n",
    "# cat yelp_academic_dataset_review.json | cut -d \\, -f 8 > review.txt"
   ]
  },
  {
   "cell_type": "code",
   "execution_count": 55,
   "metadata": {
    "collapsed": false
   },
   "outputs": [],
   "source": [
    "# %%bash\n",
    "# cat yelp_academic_dataset_review.json | cut -d \\: -f 10 > review.csv"
   ]
  },
  {
   "cell_type": "code",
   "execution_count": 56,
   "metadata": {
    "collapsed": false
   },
   "outputs": [],
   "source": [
    "# %%bash\n",
    "\n",
    "# grep -e '^{\"' yelp_academic_dataset_review.json"
   ]
  },
  {
   "cell_type": "code",
   "execution_count": 57,
   "metadata": {
    "collapsed": false
   },
   "outputs": [],
   "source": [
    "# with open('yelp_academic_dataset_review.json','rU') as f:\n",
    "#     data = json.load(f)"
   ]
  },
  {
   "cell_type": "code",
   "execution_count": 58,
   "metadata": {
    "collapsed": true
   },
   "outputs": [],
   "source": [
    "# for prefix, the_type, value in ijson.parse(open('yelp_academic_dataset_review.json')):\n",
    "# #     if the_type == 'map_key':\n",
    "# #         if value == 'stars':\n",
    "# #         print the_type, value\n",
    "#     print prefix, the_type, value"
   ]
  },
  {
   "cell_type": "code",
   "execution_count": 59,
   "metadata": {
    "collapsed": false
   },
   "outputs": [],
   "source": [
    "# df = pd.read_csv('stars.csv',names=['Stars','Text'])"
   ]
  },
  {
   "cell_type": "code",
   "execution_count": 60,
   "metadata": {
    "collapsed": false
   },
   "outputs": [],
   "source": [
    "# df['Stars'] = df['Stars'].map(lambda x: str(x)[-1])"
   ]
  },
  {
   "cell_type": "code",
   "execution_count": 61,
   "metadata": {
    "collapsed": true
   },
   "outputs": [],
   "source": [
    "# df"
   ]
  },
  {
   "cell_type": "code",
   "execution_count": 62,
   "metadata": {
    "collapsed": true
   },
   "outputs": [],
   "source": [
    "# df2 = pd.read_csv('review.csv')"
   ]
  },
  {
   "cell_type": "code",
   "execution_count": 63,
   "metadata": {
    "collapsed": true
   },
   "outputs": [],
   "source": [
    "# parser = ijson.parse(open('yelp_academic_dataset_review.json'))\n",
    "# reviews = []\n",
    "# for prefix, event, value in parser:\n",
    "#     if (prefix, event) == ('start_map','map_key'):\n",
    "#         reviews.append(value)\n",
    "# # stream.write('</yelp>')\n",
    "# reviews"
   ]
  },
  {
   "cell_type": "code",
   "execution_count": 64,
   "metadata": {
    "collapsed": true
   },
   "outputs": [],
   "source": [
    "# def load_json(filename):\n",
    "#     with open(filename, 'r') as fd:\n",
    "#         parser = ijson.parse(fd)\n",
    "#         ret = {'stars':{}}\n",
    "#         for prefix, event, value in parser:\n",
    "#             if (prefix, event) == ('stars', 'map_key'):\n",
    "#                 star_amount = value\n",
    "#                 ret['stars'][star_amount] = {}\n",
    "#         return ret"
   ]
  },
  {
   "cell_type": "code",
   "execution_count": 65,
   "metadata": {
    "collapsed": true
   },
   "outputs": [],
   "source": [
    "# df = pd.DataFrame(columns=['stars','text'])\n",
    "\n",
    "# with open('yelp_academic_dataset_review.json','rU') as f:\n",
    "#     for line in f:\n",
    "#         data = json.loads(line)\n",
    "        \n",
    "# result = json_normalize(data, ['stars', 'text'])\n",
    "# # df['stars'] = data['stars']\n",
    "# # df['text'] = data['text']"
   ]
  },
  {
   "cell_type": "markdown",
   "metadata": {
    "collapsed": false
   },
   "source": [
    "## Iteratively load json's line by line"
   ]
  },
  {
   "cell_type": "code",
   "execution_count": 66,
   "metadata": {
    "collapsed": false
   },
   "outputs": [],
   "source": [
    "# data = []\n",
    "# for line in open('yelp_academic_dataset_review.json','rU'):\n",
    "#     data.append(json.loads(line))\n",
    "# data"
   ]
  },
  {
   "cell_type": "code",
   "execution_count": 67,
   "metadata": {
    "collapsed": false
   },
   "outputs": [
    {
     "name": "stdout",
     "output_type": "stream",
     "text": [
      "(4, u'Mr Hoagie is an institution. Walking in, it does seem like a throwback to 30 years ago, old fashioned menu board, booths out of the 70s, and a large selection of food. Their speciality is the Italian Hoagie, and it is voted the best in the area year after year. I usually order the burger, while the patties are obviously cooked from frozen, all of the other ingredients are very fresh. Overall, its a good alternative to Subway, which is down the road.')\n"
     ]
    }
   ],
   "source": [
    "data = []\n",
    "with open('yelp_academic_dataset_review.json','rU') as reviews:\n",
    "#     i = 0\n",
    "#     while i < 10000:\n",
    "    \n",
    "    first_line = json.loads(reviews.readline())\n",
    "    print (first_line['stars'], first_line['text'])\n",
    "#         i += 1\n"
   ]
  },
  {
   "cell_type": "markdown",
   "metadata": {},
   "source": [
    "## Create training set from first 25,000 reviews, testing set from the next 5,000 reviews:"
   ]
  },
  {
   "cell_type": "markdown",
   "metadata": {},
   "source": [
    "- Create even split"
   ]
  },
  {
   "cell_type": "code",
   "execution_count": null,
   "metadata": {
    "collapsed": true
   },
   "outputs": [],
   "source": []
  },
  {
   "cell_type": "code",
   "execution_count": 68,
   "metadata": {
    "collapsed": false
   },
   "outputs": [],
   "source": [
    "# data = []\n",
    "# with open('yelp_academic_dataset_review.json','rU') as reviews:\n",
    "#     i = 0\n",
    "#     while i < 10000:\n",
    "#         first_line = json.loads(reviews.readline())\n",
    "#         if first_line['stars'] != 3:\n",
    "#             data.append([first_line['stars'], first_line['text']])\n",
    "#         i += 1\n",
    "# # data"
   ]
  },
  {
   "cell_type": "code",
   "execution_count": 69,
   "metadata": {
    "collapsed": true
   },
   "outputs": [],
   "source": [
    "data = []\n",
    "data_test = []\n",
    "y_train = []\n",
    "y_test = []\n",
    "with open('yelp_academic_dataset_review.json','rU') as reviews:\n",
    "    i = 0\n",
    "    while i < 25000:\n",
    "        first_line = json.loads(reviews.readline())\n",
    "        if first_line['stars'] != 3:\n",
    "            if first_line['stars'] < 3:\n",
    "                first_line['stars'] = 0\n",
    "            else:\n",
    "                first_line['stars'] = 1\n",
    "            data.append([first_line['stars'], first_line['text']])\n",
    "            y_train.append(first_line['stars'])\n",
    "        i += 1\n",
    "    while 24999 <= i < 30000:\n",
    "        first_line = json.loads(reviews.readline())\n",
    "        if first_line['stars'] != 3:\n",
    "            if first_line['stars'] < 3:\n",
    "                first_line['stars'] = 0\n",
    "            else:\n",
    "                first_line['stars'] = 1\n",
    "            data_test.append([first_line['stars'], first_line['text']])\n",
    "            y_test.append(first_line['stars'])\n",
    "        i += 1\n",
    "\n",
    "# data_test"
   ]
  },
  {
   "cell_type": "code",
   "execution_count": 70,
   "metadata": {
    "collapsed": false
   },
   "outputs": [
    {
     "data": {
      "text/plain": [
       "(25.077517530887754, 5257)"
      ]
     },
     "execution_count": 70,
     "metadata": {},
     "output_type": "execute_result"
    }
   ],
   "source": [
    "len_y = len(y_train)\n",
    "temp = [i for i in y_train if i == 0]\n",
    "temp_0 = temp.count(0)\n",
    "percentage = 100*(float(temp_0)/float(len_y))\n",
    "percentage, temp_0"
   ]
  },
  {
   "cell_type": "code",
   "execution_count": 71,
   "metadata": {
    "collapsed": false
   },
   "outputs": [
    {
     "data": {
      "text/plain": [
       "(74.92248246911225, 15706)"
      ]
     },
     "execution_count": 71,
     "metadata": {},
     "output_type": "execute_result"
    }
   ],
   "source": [
    "temp = [i for i in y_train if i == 1]\n",
    "temp_1 = temp.count(1)\n",
    "percentage = 100*(float(temp_1)/float(len_y))\n",
    "percentage, temp_1"
   ]
  },
  {
   "cell_type": "code",
   "execution_count": 154,
   "metadata": {
    "collapsed": false
   },
   "outputs": [],
   "source": [
    "k_fold_prep = []\n",
    "k_fold_prep_stars = []\n",
    "X = []\n",
    "# X = np.array(X)\n",
    "with open('yelp_academic_dataset_review.json','rU') as reviews:\n",
    "    i = 0\n",
    "    while i < 100:\n",
    "        first_line = json.loads(reviews.readline())\n",
    "        if first_line['stars'] != 3:\n",
    "            if first_line['stars'] < 3:\n",
    "                first_line['stars'] = 0\n",
    "            else:\n",
    "                first_line['stars'] = 1\n",
    "            k_fold_prep.append([first_line['stars'], first_line['text']])\n",
    "            k_fold_prep_stars.append(first_line['stars'])\n",
    "            X.append(first_line['text'])\n",
    "        i += 1\n"
   ]
  },
  {
   "cell_type": "code",
   "execution_count": 143,
   "metadata": {
    "collapsed": false,
    "scrolled": true
   },
   "outputs": [
    {
     "data": {
      "text/plain": [
       "[1,\n",
       " 1,\n",
       " 1,\n",
       " 1,\n",
       " 0,\n",
       " 1,\n",
       " 1,\n",
       " 1,\n",
       " 0,\n",
       " 0,\n",
       " 1,\n",
       " 1,\n",
       " 1,\n",
       " 0,\n",
       " 1,\n",
       " 0,\n",
       " 0,\n",
       " 1,\n",
       " 1,\n",
       " 1,\n",
       " 1,\n",
       " 1,\n",
       " 1,\n",
       " 1,\n",
       " 1,\n",
       " 1,\n",
       " 1,\n",
       " 1,\n",
       " 1,\n",
       " 1,\n",
       " 1,\n",
       " 1,\n",
       " 1,\n",
       " 1,\n",
       " 1,\n",
       " 0,\n",
       " 1,\n",
       " 1,\n",
       " 1,\n",
       " 1,\n",
       " 1,\n",
       " 1,\n",
       " 0,\n",
       " 1,\n",
       " 1,\n",
       " 1,\n",
       " 1,\n",
       " 1,\n",
       " 0,\n",
       " 0,\n",
       " 0,\n",
       " 1,\n",
       " 0,\n",
       " 1,\n",
       " 1,\n",
       " 1,\n",
       " 1,\n",
       " 1,\n",
       " 1,\n",
       " 0,\n",
       " 0,\n",
       " 1,\n",
       " 1,\n",
       " 1,\n",
       " 1,\n",
       " 0,\n",
       " 1,\n",
       " 1,\n",
       " 1,\n",
       " 1,\n",
       " 1,\n",
       " 0,\n",
       " 1,\n",
       " 1,\n",
       " 0,\n",
       " 1,\n",
       " 0,\n",
       " 1,\n",
       " 1,\n",
       " 0,\n",
       " 0,\n",
       " 0,\n",
       " 1,\n",
       " 1]"
      ]
     },
     "execution_count": 143,
     "metadata": {},
     "output_type": "execute_result"
    }
   ],
   "source": [
    "# k_fold_prep_stars = []\n",
    "# for i, j in k_fold_prep:\n",
    "#     k_fold_prep_stars.append(k_fold_prep[i][0])\n",
    "k_fold_prep_stars"
   ]
  },
  {
   "cell_type": "code",
   "execution_count": 137,
   "metadata": {
    "collapsed": false
   },
   "outputs": [
    {
     "data": {
      "text/plain": [
       "1"
      ]
     },
     "execution_count": 137,
     "metadata": {},
     "output_type": "execute_result"
    }
   ],
   "source": [
    "k_fold_prep[1][0]"
   ]
  },
  {
   "cell_type": "code",
   "execution_count": 74,
   "metadata": {
    "collapsed": true
   },
   "outputs": [],
   "source": [
    "stars_0 = []\n",
    "stars_1 = []\n",
    "X = []\n",
    "y = []\n",
    "for review in k_fold_prep:\n",
    "    if review[0] == 0:\n",
    "        stars_0.append(review)\n",
    "    elif review[0] == 1:\n",
    "        stars_1.append(review)\n",
    "    X.append(review[1])\n",
    "    y.append(review[0])"
   ]
  },
  {
   "cell_type": "code",
   "execution_count": 75,
   "metadata": {
    "collapsed": false
   },
   "outputs": [
    {
     "data": {
      "text/plain": [
       "(25.0, 21)"
      ]
     },
     "execution_count": 75,
     "metadata": {},
     "output_type": "execute_result"
    }
   ],
   "source": [
    "len_y = len(y)\n",
    "temp = [i for i in y if i == 0]\n",
    "temp_1 = temp.count(0)\n",
    "percentage = 100*(float(temp_1)/float(len_y))\n",
    "percentage, temp_1"
   ]
  },
  {
   "cell_type": "code",
   "execution_count": 76,
   "metadata": {
    "collapsed": true
   },
   "outputs": [
    {
     "data": {
      "text/plain": [
       "[[0,\n",
       "  u'Wing sauce is like water. Pretty much a lot of butter and some hot sauce (franks red hot maybe).  The whole wings are good size and crispy, but for $1 a wing the sauce could be better. The hot and extra hot are about the same flavor/heat.  The fish sandwich is good and is a large portion, sides are decent.'],\n",
       " [0,\n",
       "  u\"Waited over 45 mins, 2 people ahead of me and I'm finally getting helped...  Wtf???\\nI can understand them being busy but that was ridiculous.  I work out in Robinson and went to the Settlers Ridge location and BOY- WHAT A DIFFERENCE.  They were awesome.  In & out the door in 20 minutes- I ended up with a new 6s and my wife ordered a 6sPlus... All in less than 20 minutes!  I'll never go to this store anymore.\"],\n",
       " [0,\n",
       "  u'Station is closed.  Sign is blank and all fixtures from the store have been removed.'],\n",
       " [0,\n",
       "  u'I can;t believe this place has a high rating. I had a bichon, who was seen here since his puppyhood and who was dying. I called to make an appointment to have him put down because he was in great pain. The receptionist would not give me an appointment until one week later, even though she could hear him crying out in pain. Anyway, he died in agony before his appointment. This was in 2010 and I have not taken my subsequent pets to the clinic.'],\n",
       " [0,\n",
       "  u\"Never go to Rossi Tailoring and Dry Cleaners 393 Vanadium Road Pittsburgh, PA 15243. I decided to use a local business to do my dry cleaning. I dropped off 3 shirts at this establishment just before Thanksgiving. It is now late January. I have stopped by more than a half dozen times and have been given only ONE of the shirts. They have offered $20 a shirt for the shirts they lost. Those shirts are worth at least $50 each, and I refuse to take under $30 for each. I am tired of the run around, tired of promised phone calls that never happen (they have NEVER called me).  I wouldn't use their services again if you paid me to.\"],\n",
       " [0,\n",
       "  u'I got \\'new\\' tires from them and within two weeks got a flat. I took my car to a local mechanic to see if i could get the hole patched, but they said the reason I had a flat was because the previous patch had blown - WAIT, WHAT? I just got the tire and never needed to have it patched? This was supposed to be a new tire. \\nI took the tire over to Flynn\\'s and they told me that someone punctured my tire, then tried to patch it. So there are resentful tire slashers? I find that very unlikely. After arguing with the guy and telling him that his logic was far fetched he said he\\'d give me a new tire \"this time\". \\nI will never go back to Flynn\\'s b/c of the way this guy treated me and the simple fact that they gave me a used tire!'],\n",
       " [0,\n",
       "  u\"Very disappointed in the customer service. We ordered Reuben's  and wanted coleslaw instead of kraut. They charged us $3.00 for the coleslaw. We will not be back . The iced tea is also terrible tasting.\"],\n",
       " [0,\n",
       "  u\"Two meals, on the recommendation of a friend who lives near the place, and after the second trip, I was compelled to write. 'Rocky' would definitely describe the experiences.\\n\\nOn the first trip, I went to try their (at that time)raved about Reuben. And YET to find a true good Reuben in da burgh, I tried it.\\n\\nWell, they were out of the proper bread, and the guy had to run to the store to buy the closest thing he could find, which was not the proper bread, and instead of one of their 'raved about' Reubens, I received two mini-Reubens, which basically took the guts from one Reuben, and spread it out onto two sandwiches on regular sized bread. I ate it. It wasn't great, but they swore it was because they'd run out of the bread. Bread or not, it still wasn't great. The atmosphere was pleasant in that 'blue collar bar' kind of way, and the staff was very nice, but not a winning pitch on the Reuben.\\n\\nThe second trip was after a long day of moving furniture with the same friend. Sat in the back room, instead of the bar, which felt more like a restaurant, of course, with the big screen TV covering the sports of the moment.\\n\\nI was in the mood for dinner this time, and after a scan, decided on fried chicken and mashed potatoes with the salad bar. My friend ordered one of her faves, the breaded pork chops.\\n\\nWe hit the salad bar, which was uber-basic. Three soups (mostly vegetable loaded, which left me out), basic iceberg lettuce mix (very probably out of a bag), a few veggie toppings, and three or four dressings. It was a basic salad, no big deal. More or less an appetizer filler before the meal.\\n\\nThe mind-blower in this trip was the ordering of the fried chicken dinner. Our waiter looked like a 19 year old gas station attendant, skinny little blonde guy with a sweet but incredibly naive face, and an air of vapidity, which was confirmed when I placed my order. I asked what chicken pieces came in the dinner, and asked if it was possible to only get dark meat. I never imagined how confusing a question that could possibly be. It literally took him two trips back to the kitchen to 'ask', and the child honestly had no clue what 'white meat' and 'dark meat' meant. The first answer he came back with was that the chicken came in a pre-portioned prepared bag, kind of Kentucky Fried Chicken style...which didn't answer my question, thus prompting the second trip. \\n\\nAfter the second trip back I heard the cook holler 'Tell him I'll fix him up'. \\n\\nWell, the chicken was prepackaged dreck like you'd find in the freezer case of Walmart, tiny and not good, and the potatoes had that slight tinge of chem-spuds flavor, laden with some kind of chopped up green (parsley?), and a side of that basic brown gravy served up in 5 gallon buckets.\\n\\nThank goodness for the basic salad bar.\\n\\nEven my friend admitted that her pork chops were different and not what she'd expected. They also appeared to be from a freezer bag.\\n\\nThe irony was that the boy who didn't know white meat from dark meat, was chatting with some other customers...about baseball...and he was a genius about the mindless sport of baseball. Ahhhh da burgh.\\n\\nThird base? Nah...why bother when there are so many other options around. Go on in a grab a beer and chat black and gold if you happen to be in Carnegie...they can help you out all types of ways in that area. Just don't go hungry if you actually have tastebuds.\\n\\nFrom what I understand it 'used to be' really good homecooked food. But apparently, mama has left the kitchen.\"],\n",
       " [0,\n",
       "  u\"Terrible. Preordered my tires and when I arrived they couldn't find the order anywhere. Once we got through that process I waited over 2 hours for them to be put on... I was originally told it would take 30 mins. Slow, over priced, I'll go elsewhere next time.\"],\n",
       " [0,\n",
       "  u\"Average run of the mill store.  Associates are young teens and they really don't know where anything is.  Luckily I am able to get around to find everything.  Found my puppy treats and moved on.\"]]"
      ]
     },
     "execution_count": 76,
     "metadata": {},
     "output_type": "execute_result"
    }
   ],
   "source": [
    "num_to_select = 10\n",
    "randos = random.sample(stars_0, num_to_select)\n",
    "randos"
   ]
  },
  {
   "cell_type": "code",
   "execution_count": 78,
   "metadata": {
    "collapsed": false
   },
   "outputs": [],
   "source": [
    "# rando = np.random.choice(stars_0, replace=False)"
   ]
  },
  {
   "cell_type": "code",
   "execution_count": 79,
   "metadata": {
    "collapsed": true
   },
   "outputs": [
    {
     "name": "stdout",
     "output_type": "stream",
     "text": [
      "TRAIN: [ 9 10 11 12 13 14 15 16 17 18 19 20 21 22 23 24 25 26 27 28 29 30 31 32 33\n",
      " 34 35 36 37 38 39 40 41 42 43 44 45 46 47 48 49 50 51 52 53 54 55 56 57 58\n",
      " 59 60 61 62 63 64 65 66 67 68 69 70 71 72 73 74 75 76 77 78 79 80 81 82 83] TEST: [0 1 2 3 4 5 6 7 8]\n",
      "TRAIN: [ 0  1  2  3  4  5  6  7  8 18 19 20 21 22 23 24 25 26 27 28 29 30 31 32 33\n",
      " 34 35 36 37 38 39 40 41 42 43 44 45 46 47 48 49 50 51 52 53 54 55 56 57 58\n",
      " 59 60 61 62 63 64 65 66 67 68 69 70 71 72 73 74 75 76 77 78 79 80 81 82 83] TEST: [ 9 10 11 12 13 14 15 16 17]\n",
      "TRAIN: [ 0  1  2  3  4  5  6  7  8  9 10 11 12 13 14 15 16 17 27 28 29 30 31 32 33\n",
      " 34 35 36 37 38 39 40 41 42 43 44 45 46 47 48 49 50 51 52 53 54 55 56 57 58\n",
      " 59 60 61 62 63 64 65 66 67 68 69 70 71 72 73 74 75 76 77 78 79 80 81 82 83] TEST: [18 19 20 21 22 23 24 25 26]\n",
      "TRAIN: [ 0  1  2  3  4  5  6  7  8  9 10 11 12 13 14 15 16 17 18 19 20 21 22 23 24\n",
      " 25 26 36 37 38 39 40 41 42 43 44 45 46 47 48 49 50 51 52 53 54 55 56 57 58\n",
      " 59 60 61 62 63 64 65 66 67 68 69 70 71 72 73 74 75 76 77 78 79 80 81 82 83] TEST: [27 28 29 30 31 32 33 34 35]\n",
      "TRAIN: [ 0  1  2  3  4  5  6  7  8  9 10 11 12 13 14 15 16 17 18 19 20 21 22 23 24\n",
      " 25 26 27 28 29 30 31 32 33 34 35 44 45 46 47 48 49 50 51 52 53 54 55 56 57\n",
      " 58 59 60 61 62 63 64 65 66 67 68 69 70 71 72 73 74 75 76 77 78 79 80 81 82\n",
      " 83] TEST: [36 37 38 39 40 41 42 43]\n",
      "TRAIN: [ 0  1  2  3  4  5  6  7  8  9 10 11 12 13 14 15 16 17 18 19 20 21 22 23 24\n",
      " 25 26 27 28 29 30 31 32 33 34 35 36 37 38 39 40 41 42 43 52 53 54 55 56 57\n",
      " 58 59 60 61 62 63 64 65 66 67 68 69 70 71 72 73 74 75 76 77 78 79 80 81 82\n",
      " 83] TEST: [44 45 46 47 48 49 50 51]\n",
      "TRAIN: [ 0  1  2  3  4  5  6  7  8  9 10 11 12 13 14 15 16 17 18 19 20 21 22 23 24\n",
      " 25 26 27 28 29 30 31 32 33 34 35 36 37 38 39 40 41 42 43 44 45 46 47 48 49\n",
      " 50 51 60 61 62 63 64 65 66 67 68 69 70 71 72 73 74 75 76 77 78 79 80 81 82\n",
      " 83] TEST: [52 53 54 55 56 57 58 59]\n",
      "TRAIN: [ 0  1  2  3  4  5  6  7  8  9 10 11 12 13 14 15 16 17 18 19 20 21 22 23 24\n",
      " 25 26 27 28 29 30 31 32 33 34 35 36 37 38 39 40 41 42 43 44 45 46 47 48 49\n",
      " 50 51 52 53 54 55 56 57 58 59 68 69 70 71 72 73 74 75 76 77 78 79 80 81 82\n",
      " 83] TEST: [60 61 62 63 64 65 66 67]\n",
      "TRAIN: [ 0  1  2  3  4  5  6  7  8  9 10 11 12 13 14 15 16 17 18 19 20 21 22 23 24\n",
      " 25 26 27 28 29 30 31 32 33 34 35 36 37 38 39 40 41 42 43 44 45 46 47 48 49\n",
      " 50 51 52 53 54 55 56 57 58 59 60 61 62 63 64 65 66 67 76 77 78 79 80 81 82\n",
      " 83] TEST: [68 69 70 71 72 73 74 75]\n",
      "TRAIN: [ 0  1  2  3  4  5  6  7  8  9 10 11 12 13 14 15 16 17 18 19 20 21 22 23 24\n",
      " 25 26 27 28 29 30 31 32 33 34 35 36 37 38 39 40 41 42 43 44 45 46 47 48 49\n",
      " 50 51 52 53 54 55 56 57 58 59 60 61 62 63 64 65 66 67 68 69 70 71 72 73 74\n",
      " 75] TEST: [76 77 78 79 80 81 82 83]\n"
     ]
    }
   ],
   "source": [
    "kf = KFold(len(k_fold_prep), n_folds=10)\n",
    "for train, test in kf:\n",
    "    print 'TRAIN:', train, 'TEST:', test\n",
    "#     X_train, X_test = X[train], X[test]\n",
    "#     y_train, y_test = y[train], y[test]"
   ]
  },
  {
   "cell_type": "code",
   "execution_count": 145,
   "metadata": {
    "collapsed": false,
    "scrolled": true
   },
   "outputs": [
    {
     "data": {
      "text/plain": [
       "(10,\n",
       " sklearn.cross_validation.StratifiedKFold(labels=[1 1 1 1 0 1 1 1 0 0 1 1 1 0 1 0 0 1 1 1 1 1 1 1 1 1 1 1 1 1 1 1 1 1 1 0 1\n",
       "  1 1 1 1 1 0 1 1 1 1 1 0 0 0 1 0 1 1 1 1 1 1 0 0 1 1 1 1 0 1 1 1 1 1 0 1 1\n",
       "  0 1 0 1 1 0 0 0 1 1], n_folds=10, shuffle=False, random_state=None))"
      ]
     },
     "execution_count": 145,
     "metadata": {},
     "output_type": "execute_result"
    }
   ],
   "source": [
    "skf = StratifiedKFold(k_fold_prep_stars, n_folds=10)\n",
    "len(skf), skf"
   ]
  },
  {
   "cell_type": "code",
   "execution_count": 158,
   "metadata": {
    "collapsed": false
   },
   "outputs": [
    {
     "data": {
      "text/plain": [
       "u\"Before I finally made it over to this range I heard the same thing from most people - it's just fine to go work on your swing. I had such a low expectation I was pleasantly surprised. \\n\\nIt's a fairly big range - if you are familiar with Scally's in Moon, it seems like it has almost as many tees, though its not nearly as nice a facility. \\n\\nThe guys in the pro shop were two of the friendlier guys I've come across at ranges or at courses. Yards were indeed marked and there are some targets to aim for, and even some hazards to aim away from. \\n\\nA big red flag to me was the extra charge ($3) to hit off the grass. I am no range expert, but this is the 4th one I've been to and the first I've seen of that sort of nickel and diming....\\n\\nPrice for the golf balls was reasonable and I do plan to be back every week until they close up in October for the season. Hopefully, since its for sale, it will reopen as a golf facility again.\""
      ]
     },
     "execution_count": 158,
     "metadata": {},
     "output_type": "execute_result"
    }
   ],
   "source": [
    "X[10]"
   ]
  },
  {
   "cell_type": "code",
   "execution_count": 156,
   "metadata": {
    "collapsed": false
   },
   "outputs": [
    {
     "name": "stdout",
     "output_type": "stream",
     "text": [
      "TRAIN: [10 11 12 13 14 15 16 17 18 19 20 21 22 23 24 25 26 27 28 29 30 31 32 33 34\n",
      " 35 36 37 38 39 40 41 42 43 44 45 46 47 48 49 50 51 52 53 54 55 56 57 58 59\n",
      " 60 61 62 63 64 65 66 67 68 69 70 71 72 73 74 75 76 77 78 79 80 81 82 83] TEST: [0 1 2 3 4 5 6 7 8 9]\n"
     ]
    },
    {
     "ename": "TypeError",
     "evalue": "only integer arrays with one element can be converted to an index",
     "output_type": "error",
     "traceback": [
      "\u001b[0;31m---------------------------------------------------------------------------\u001b[0m",
      "\u001b[0;31mTypeError\u001b[0m                                 Traceback (most recent call last)",
      "\u001b[0;32m<ipython-input-156-1219d0a46a71>\u001b[0m in \u001b[0;36m<module>\u001b[0;34m()\u001b[0m\n\u001b[1;32m      1\u001b[0m \u001b[0;32mfor\u001b[0m \u001b[0mtrain\u001b[0m\u001b[0;34m,\u001b[0m \u001b[0mtest\u001b[0m \u001b[0;32min\u001b[0m \u001b[0mskf\u001b[0m\u001b[0;34m:\u001b[0m\u001b[0;34m\u001b[0m\u001b[0m\n\u001b[1;32m      2\u001b[0m     \u001b[0;32mprint\u001b[0m \u001b[0;34m'TRAIN:'\u001b[0m\u001b[0;34m,\u001b[0m \u001b[0mtrain\u001b[0m\u001b[0;34m,\u001b[0m \u001b[0;34m'TEST:'\u001b[0m\u001b[0;34m,\u001b[0m \u001b[0mtest\u001b[0m\u001b[0;34m\u001b[0m\u001b[0m\n\u001b[0;32m----> 3\u001b[0;31m     \u001b[0mX_train\u001b[0m\u001b[0;34m,\u001b[0m \u001b[0mX_test\u001b[0m \u001b[0;34m=\u001b[0m \u001b[0mX\u001b[0m\u001b[0;34m[\u001b[0m\u001b[0mtrain\u001b[0m\u001b[0;34m]\u001b[0m\u001b[0;34m,\u001b[0m \u001b[0mX\u001b[0m\u001b[0;34m[\u001b[0m\u001b[0mtest\u001b[0m\u001b[0;34m]\u001b[0m\u001b[0;34m\u001b[0m\u001b[0m\n\u001b[0m\u001b[1;32m      4\u001b[0m     \u001b[0my_train\u001b[0m\u001b[0;34m,\u001b[0m \u001b[0my_test\u001b[0m \u001b[0;34m=\u001b[0m \u001b[0my\u001b[0m\u001b[0;34m[\u001b[0m\u001b[0mtrain\u001b[0m\u001b[0;34m]\u001b[0m\u001b[0;34m,\u001b[0m \u001b[0my\u001b[0m\u001b[0;34m[\u001b[0m\u001b[0mtest\u001b[0m\u001b[0;34m]\u001b[0m\u001b[0;34m\u001b[0m\u001b[0m\n",
      "\u001b[0;31mTypeError\u001b[0m: only integer arrays with one element can be converted to an index"
     ]
    }
   ],
   "source": [
    "for train, test in skf:\n",
    "    print 'TRAIN:', train, 'TEST:', test\n",
    "    X_train, X_test = X[train], X[test]\n",
    "    y_train, y_test = y[train], y[test]"
   ]
  },
  {
   "cell_type": "markdown",
   "metadata": {},
   "source": [
    "## Sort reviews by star number, make dataframes:"
   ]
  },
  {
   "cell_type": "code",
   "execution_count": 80,
   "metadata": {
    "collapsed": false
   },
   "outputs": [],
   "source": [
    "df = pd.DataFrame(data, columns = ['stars','text']).sort('stars')\n",
    "df.reset_index(drop=True, inplace=True)"
   ]
  },
  {
   "cell_type": "code",
   "execution_count": 81,
   "metadata": {
    "collapsed": false
   },
   "outputs": [
    {
     "data": {
      "text/html": [
       "<div>\n",
       "<table border=\"1\" class=\"dataframe\">\n",
       "  <thead>\n",
       "    <tr style=\"text-align: right;\">\n",
       "      <th></th>\n",
       "      <th>stars</th>\n",
       "      <th>text</th>\n",
       "    </tr>\n",
       "  </thead>\n",
       "  <tbody>\n",
       "    <tr>\n",
       "      <th>0</th>\n",
       "      <td>0</td>\n",
       "      <td>Pretty poor experience here. We were seated qu...</td>\n",
       "    </tr>\n",
       "    <tr>\n",
       "      <th>1</th>\n",
       "      <td>0</td>\n",
       "      <td>Spoke with a self appointed \"big cheese\" at th...</td>\n",
       "    </tr>\n",
       "    <tr>\n",
       "      <th>2</th>\n",
       "      <td>0</td>\n",
       "      <td>One word, ugh. In dire need of upgrades. Dirty...</td>\n",
       "    </tr>\n",
       "    <tr>\n",
       "      <th>3</th>\n",
       "      <td>0</td>\n",
       "      <td>The worst dry cleaners ever with the shittiest...</td>\n",
       "    </tr>\n",
       "    <tr>\n",
       "      <th>4</th>\n",
       "      <td>0</td>\n",
       "      <td>I'm writing this review as I sit in the Hilton...</td>\n",
       "    </tr>\n",
       "  </tbody>\n",
       "</table>\n",
       "</div>"
      ],
      "text/plain": [
       "   stars                                               text\n",
       "0      0  Pretty poor experience here. We were seated qu...\n",
       "1      0  Spoke with a self appointed \"big cheese\" at th...\n",
       "2      0  One word, ugh. In dire need of upgrades. Dirty...\n",
       "3      0  The worst dry cleaners ever with the shittiest...\n",
       "4      0  I'm writing this review as I sit in the Hilton..."
      ]
     },
     "execution_count": 81,
     "metadata": {},
     "output_type": "execute_result"
    }
   ],
   "source": [
    "df.head()"
   ]
  },
  {
   "cell_type": "code",
   "execution_count": 82,
   "metadata": {
    "collapsed": false
   },
   "outputs": [],
   "source": [
    "df_testing = pd.DataFrame(data_test, columns = ['stars','text']).sort('stars')\n",
    "df_testing.reset_index(drop=True, inplace=True)"
   ]
  },
  {
   "cell_type": "code",
   "execution_count": 83,
   "metadata": {
    "collapsed": false
   },
   "outputs": [
    {
     "data": {
      "text/html": [
       "<div>\n",
       "<table border=\"1\" class=\"dataframe\">\n",
       "  <thead>\n",
       "    <tr style=\"text-align: right;\">\n",
       "      <th></th>\n",
       "      <th>stars</th>\n",
       "      <th>text</th>\n",
       "    </tr>\n",
       "  </thead>\n",
       "  <tbody>\n",
       "    <tr>\n",
       "      <th>0</th>\n",
       "      <td>0</td>\n",
       "      <td>I realize this is a pizza chain but that doesn...</td>\n",
       "    </tr>\n",
       "    <tr>\n",
       "      <th>1</th>\n",
       "      <td>0</td>\n",
       "      <td>I thought I liked this place but I have change...</td>\n",
       "    </tr>\n",
       "    <tr>\n",
       "      <th>2</th>\n",
       "      <td>0</td>\n",
       "      <td>CAN I RATE LESS THAN A STAR?\\nMy first and onl...</td>\n",
       "    </tr>\n",
       "    <tr>\n",
       "      <th>3</th>\n",
       "      <td>0</td>\n",
       "      <td>Literally the worst Chinese buffet I have ever...</td>\n",
       "    </tr>\n",
       "    <tr>\n",
       "      <th>4</th>\n",
       "      <td>0</td>\n",
       "      <td>Went a second time and did not have a great ex...</td>\n",
       "    </tr>\n",
       "  </tbody>\n",
       "</table>\n",
       "</div>"
      ],
      "text/plain": [
       "   stars                                               text\n",
       "0      0  I realize this is a pizza chain but that doesn...\n",
       "1      0  I thought I liked this place but I have change...\n",
       "2      0  CAN I RATE LESS THAN A STAR?\\nMy first and onl...\n",
       "3      0  Literally the worst Chinese buffet I have ever...\n",
       "4      0  Went a second time and did not have a great ex..."
      ]
     },
     "execution_count": 83,
     "metadata": {},
     "output_type": "execute_result"
    }
   ],
   "source": [
    "df_testing.head()"
   ]
  },
  {
   "cell_type": "markdown",
   "metadata": {},
   "source": [
    "## Clean text for Bag-of-Words:"
   ]
  },
  {
   "cell_type": "code",
   "execution_count": 84,
   "metadata": {
    "collapsed": false
   },
   "outputs": [
    {
     "name": "stderr",
     "output_type": "stream",
     "text": [
      "/Users/jacobmink/anaconda/lib/python2.7/site-packages/bs4/__init__.py:166: UserWarning: No parser was explicitly specified, so I'm using the best available HTML parser for this system (\"lxml\"). This usually isn't a problem, but if you run this code on another system, or in a different virtual environment, it may use a different parser and behave differently.\n",
      "\n",
      "To get rid of this warning, change this:\n",
      "\n",
      " BeautifulSoup([your markup])\n",
      "\n",
      "to this:\n",
      "\n",
      " BeautifulSoup([your markup], \"lxml\")\n",
      "\n",
      "  markup_type=markup_type))\n"
     ]
    },
    {
     "data": {
      "text/plain": [
       "u'Im soo surprised with the food that we ate. Im from California and was excited to experience this restaurant. Especially, since it is a local fav. I ordered the house made spaghetti expecting a fresh tomato base sauce. Unfortunately what I got tasted like a canned sauce with minced onions. It had no...flavor!  Now maybe I ruined the meal by ordering gluten free noodles....but I didnt think that would make it this bad. Im soo sorry because our server was awesome and they even accommodated our big party. On a good note, the bread was delicious.\\nAs much as I hate Olive Garden...I would preferred that.'"
      ]
     },
     "execution_count": 84,
     "metadata": {},
     "output_type": "execute_result"
    }
   ],
   "source": [
    "example1 = BeautifulSoup(df['text'][75])\n",
    "example1.get_text()"
   ]
  },
  {
   "cell_type": "code",
   "execution_count": 85,
   "metadata": {
    "collapsed": false
   },
   "outputs": [],
   "source": [
    "def review_to_words(raw_review):\n",
    "    #     1) Remove HTML:\n",
    "    review_text = BeautifulSoup(raw_review).get_text()\n",
    "    #     2) Remove non-letters:\n",
    "    letters_only = re.sub('[^a-zA-Z]',' ', review_text)\n",
    "    #     3) Convert to lower case, split into words:\n",
    "    words = letters_only.lower().split()\n",
    "    #     4) Convert stopwords to set:\n",
    "    stops = set(stopwords.words('english'))\n",
    "    #     5) Remove stopwords:\n",
    "    meaningful_words = [w for w in words if not w in stops]\n",
    "    #     6) Join words back into one string separated by space:\n",
    "    return( ' '.join(meaningful_words))"
   ]
  },
  {
   "cell_type": "code",
   "execution_count": 86,
   "metadata": {
    "collapsed": false
   },
   "outputs": [
    {
     "data": {
      "text/plain": [
       "u'pretty poor experience seated quickly waitstaff seemed unfriendly ordered truffle fries traditional aoili truffle sauce covered fries steakfries chipotle ranch dipping sauce impressed average hamburger chicken tenders nothing special fairly expensive forgettable'"
      ]
     },
     "execution_count": 86,
     "metadata": {},
     "output_type": "execute_result"
    }
   ],
   "source": [
    "clean_example = review_to_words(df['text'][0])\n",
    "clean_example"
   ]
  },
  {
   "cell_type": "code",
   "execution_count": 87,
   "metadata": {
    "collapsed": false
   },
   "outputs": [
    {
     "data": {
      "text/plain": [
       "20963"
      ]
     },
     "execution_count": 87,
     "metadata": {},
     "output_type": "execute_result"
    }
   ],
   "source": [
    "num_reviews = df['text'].size\n",
    "num_reviews"
   ]
  },
  {
   "cell_type": "code",
   "execution_count": 88,
   "metadata": {
    "collapsed": false
   },
   "outputs": [
    {
     "data": {
      "text/plain": [
       "4191"
      ]
     },
     "execution_count": 88,
     "metadata": {},
     "output_type": "execute_result"
    }
   ],
   "source": [
    "num_test_reviews = df_testing['text'].size\n",
    "num_test_reviews"
   ]
  },
  {
   "cell_type": "code",
   "execution_count": 89,
   "metadata": {
    "collapsed": false
   },
   "outputs": [
    {
     "name": "stdout",
     "output_type": "stream",
     "text": [
      "Cleaning and parsing the training set Yelp reviews...\n",
      "\n",
      "Review 1000 of 20963\n",
      "\n",
      "Review 2000 of 20963\n",
      "\n",
      "Review 3000 of 20963\n",
      "\n",
      "Review 4000 of 20963\n",
      "\n",
      "Review 5000 of 20963\n",
      "\n",
      "Review 6000 of 20963\n",
      "\n",
      "Review 7000 of 20963\n",
      "\n",
      "Review 8000 of 20963\n",
      "\n",
      "Review 9000 of 20963\n",
      "\n",
      "Review 10000 of 20963\n",
      "\n",
      "Review 11000 of 20963\n",
      "\n",
      "Review 12000 of 20963\n",
      "\n",
      "Review 13000 of 20963\n",
      "\n",
      "Review 14000 of 20963\n",
      "\n",
      "Review 15000 of 20963\n",
      "\n",
      "Review 16000 of 20963\n",
      "\n",
      "Review 17000 of 20963\n",
      "\n",
      "Review 18000 of 20963\n",
      "\n",
      "Review 19000 of 20963\n",
      "\n",
      "Review 20000 of 20963\n",
      "\n"
     ]
    }
   ],
   "source": [
    "print \"Cleaning and parsing the training set Yelp reviews...\\n\"\n",
    "clean_train_reviews = []\n",
    "for i in xrange(0, num_reviews):\n",
    "    if (i+1)%1000 == 0:\n",
    "        print \"Review %d of %d\\n\" % (i+1,num_reviews)\n",
    "    clean_train_reviews.append(review_to_words(df['text'][i]))"
   ]
  },
  {
   "cell_type": "code",
   "execution_count": 90,
   "metadata": {
    "collapsed": false
   },
   "outputs": [
    {
     "name": "stdout",
     "output_type": "stream",
     "text": [
      "Cleaning and parsing the testing set Yelp reviews...\n",
      "\n",
      "Review 1000 of 4191\n",
      "\n",
      "Review 2000 of 4191\n",
      "\n",
      "Review 3000 of 4191\n",
      "\n",
      "Review 4000 of 4191\n",
      "\n"
     ]
    }
   ],
   "source": [
    "print \"Cleaning and parsing the testing set Yelp reviews...\\n\"\n",
    "clean_test_reviews = []\n",
    "for i in xrange(0, num_test_reviews):\n",
    "    if (i+1)%1000 == 0:\n",
    "        print \"Review %d of %d\\n\" % (i+1,num_test_reviews)\n",
    "    clean_test_reviews.append(review_to_words(df_testing['text'][i]))"
   ]
  },
  {
   "cell_type": "code",
   "execution_count": 91,
   "metadata": {
    "collapsed": false
   },
   "outputs": [
    {
     "data": {
      "text/plain": [
       "u'realize pizza chain make substandard service ordered week ago delivery person phone sure specials asked getting specials placed order pepperoni hot wings pizza arrived hour told minutes driver less cordial handed pizza mumbled price bringing pizza inside opening box pizza cold wings since hungry want call back deal phone person sucked ate pieces pizza wings pizza flavorless crust tasted like cardboard wings slimy chewy needless say never go back papa john going stick local pizzeria danny pizza street'"
      ]
     },
     "execution_count": 91,
     "metadata": {},
     "output_type": "execute_result"
    }
   ],
   "source": [
    "clean_test_reviews[0]"
   ]
  },
  {
   "cell_type": "code",
   "execution_count": 92,
   "metadata": {
    "collapsed": false
   },
   "outputs": [
    {
     "data": {
      "text/plain": [
       "u'pretty poor experience seated quickly waitstaff seemed unfriendly ordered truffle fries traditional aoili truffle sauce covered fries steakfries chipotle ranch dipping sauce impressed average hamburger chicken tenders nothing special fairly expensive forgettable'"
      ]
     },
     "execution_count": 92,
     "metadata": {},
     "output_type": "execute_result"
    }
   ],
   "source": [
    "clean_train_reviews[0]"
   ]
  },
  {
   "cell_type": "markdown",
   "metadata": {},
   "source": [
    "## Vectorize word counts, train on training set:"
   ]
  },
  {
   "cell_type": "code",
   "execution_count": 93,
   "metadata": {
    "collapsed": true
   },
   "outputs": [],
   "source": [
    "vectorizer = CountVectorizer(analyzer='word',\n",
    "                             tokenizer=None,\n",
    "                             preprocessor=None,\n",
    "                             stop_words=None,\n",
    "                             max_features=5000)\n",
    "\n",
    "train_data_features = vectorizer.fit_transform(clean_train_reviews)\n",
    "train_data_features = train_data_features.toarray()"
   ]
  },
  {
   "cell_type": "markdown",
   "metadata": {},
   "source": [
    "## Vectorize testing set words:"
   ]
  },
  {
   "cell_type": "code",
   "execution_count": 94,
   "metadata": {
    "collapsed": true
   },
   "outputs": [],
   "source": [
    "test_data_features = vectorizer.transform(clean_test_reviews)\n",
    "test_data_features = test_data_features.toarray()"
   ]
  },
  {
   "cell_type": "code",
   "execution_count": 95,
   "metadata": {
    "collapsed": false
   },
   "outputs": [
    {
     "data": {
      "text/plain": [
       "(4191, 5000)"
      ]
     },
     "execution_count": 95,
     "metadata": {},
     "output_type": "execute_result"
    }
   ],
   "source": [
    "test_data_features.shape"
   ]
  },
  {
   "cell_type": "code",
   "execution_count": 96,
   "metadata": {
    "collapsed": false
   },
   "outputs": [
    {
     "data": {
      "text/plain": [
       "(20963, 5000)"
      ]
     },
     "execution_count": 96,
     "metadata": {},
     "output_type": "execute_result"
    }
   ],
   "source": [
    "train_data_features.shape"
   ]
  },
  {
   "cell_type": "code",
   "execution_count": 97,
   "metadata": {
    "collapsed": false
   },
   "outputs": [
    {
     "data": {
      "text/plain": [
       "[u'ability',\n",
       " u'able',\n",
       " u'absolute',\n",
       " u'absolutely',\n",
       " u'ac',\n",
       " u'accent',\n",
       " u'accept',\n",
       " u'acceptable',\n",
       " u'accepted',\n",
       " u'access',\n",
       " u'accessible',\n",
       " u'accessories',\n",
       " u'accident',\n",
       " u'accidentally',\n",
       " u'accommodate',\n",
       " u'accommodated',\n",
       " u'accommodating',\n",
       " u'accomodating',\n",
       " u'accompanied']"
      ]
     },
     "execution_count": 97,
     "metadata": {},
     "output_type": "execute_result"
    }
   ],
   "source": [
    "vocab = vectorizer.get_feature_names()\n",
    "vocab[1:20]"
   ]
  },
  {
   "cell_type": "code",
   "execution_count": 98,
   "metadata": {
    "collapsed": false
   },
   "outputs": [
    {
     "name": "stdout",
     "output_type": "stream",
     "text": [
      "25 ability\n",
      "40 able\n",
      "920 absolute\n",
      "141 absolutely\n",
      "883 ac\n",
      "52 accent\n",
      "29 accept\n",
      "98 acceptable\n",
      "70 accepted\n",
      "38 access\n",
      "137 accessible\n",
      "44 accessories\n",
      "31 accident\n",
      "50 accidentally\n",
      "30 accommodate\n",
      "72 accommodated\n",
      "27 accommodating\n",
      "204 accomodating\n",
      "26 accompanied\n"
     ]
    }
   ],
   "source": [
    "dist = np.sum(train_data_features, axis=0)\n",
    "for tag, count in zip(vocab[1:20], dist):\n",
    "    print count, tag"
   ]
  },
  {
   "cell_type": "markdown",
   "metadata": {},
   "source": [
    "## Generate random forest model:"
   ]
  },
  {
   "cell_type": "markdown",
   "metadata": {},
   "source": [
    "- Include weighting to account for imbalanced classes in training set"
   ]
  },
  {
   "cell_type": "code",
   "execution_count": 112,
   "metadata": {
    "collapsed": false,
    "scrolled": true
   },
   "outputs": [
    {
     "name": "stdout",
     "output_type": "stream",
     "text": [
      "Training the random forest...\n"
     ]
    }
   ],
   "source": [
    "print 'Training the random forest...'\n",
    "\n",
    "forest = RandomForestClassifier(n_estimators=100)\n",
    "forest = forest.fit(train_data_features,\n",
    "                    df['stars'],\n",
    "                    sample_weight=np.array([3 if i == 0 else 1 for i in df['stars']]))"
   ]
  },
  {
   "cell_type": "code",
   "execution_count": null,
   "metadata": {
    "collapsed": false
   },
   "outputs": [],
   "source": []
  },
  {
   "cell_type": "code",
   "execution_count": 113,
   "metadata": {
    "collapsed": false
   },
   "outputs": [
    {
     "name": "stdout",
     "output_type": "stream",
     "text": [
      "Testing using the random forest...\n"
     ]
    }
   ],
   "source": [
    "print 'Testing using the random forest...'\n",
    "result = forest.predict(test_data_features)\n",
    "output = pd.DataFrame(data={'text':df_testing['text'],'stars_pred':result})"
   ]
  },
  {
   "cell_type": "code",
   "execution_count": 114,
   "metadata": {
    "collapsed": false,
    "scrolled": true
   },
   "outputs": [
    {
     "data": {
      "text/html": [
       "<div>\n",
       "<table border=\"1\" class=\"dataframe\">\n",
       "  <thead>\n",
       "    <tr style=\"text-align: right;\">\n",
       "      <th></th>\n",
       "      <th>stars_pred</th>\n",
       "      <th>text</th>\n",
       "    </tr>\n",
       "  </thead>\n",
       "  <tbody>\n",
       "    <tr>\n",
       "      <th>0</th>\n",
       "      <td>0</td>\n",
       "      <td>I realize this is a pizza chain but that doesn...</td>\n",
       "    </tr>\n",
       "    <tr>\n",
       "      <th>1</th>\n",
       "      <td>0</td>\n",
       "      <td>I thought I liked this place but I have change...</td>\n",
       "    </tr>\n",
       "    <tr>\n",
       "      <th>2</th>\n",
       "      <td>0</td>\n",
       "      <td>CAN I RATE LESS THAN A STAR?\\nMy first and onl...</td>\n",
       "    </tr>\n",
       "    <tr>\n",
       "      <th>3</th>\n",
       "      <td>0</td>\n",
       "      <td>Literally the worst Chinese buffet I have ever...</td>\n",
       "    </tr>\n",
       "    <tr>\n",
       "      <th>4</th>\n",
       "      <td>1</td>\n",
       "      <td>Went a second time and did not have a great ex...</td>\n",
       "    </tr>\n",
       "    <tr>\n",
       "      <th>5</th>\n",
       "      <td>1</td>\n",
       "      <td>Not the worst Chinese I've had, but definitely...</td>\n",
       "    </tr>\n",
       "    <tr>\n",
       "      <th>6</th>\n",
       "      <td>0</td>\n",
       "      <td>These Ladys where allllllll up in my business....</td>\n",
       "    </tr>\n",
       "    <tr>\n",
       "      <th>7</th>\n",
       "      <td>0</td>\n",
       "      <td>again, came here as it was within walking dist...</td>\n",
       "    </tr>\n",
       "    <tr>\n",
       "      <th>8</th>\n",
       "      <td>0</td>\n",
       "      <td>I wish i could say good things about this busi...</td>\n",
       "    </tr>\n",
       "    <tr>\n",
       "      <th>9</th>\n",
       "      <td>0</td>\n",
       "      <td>Greasy unappetizing fried food. Low quality in...</td>\n",
       "    </tr>\n",
       "    <tr>\n",
       "      <th>10</th>\n",
       "      <td>1</td>\n",
       "      <td>Since there are more options in the area Lotus...</td>\n",
       "    </tr>\n",
       "    <tr>\n",
       "      <th>11</th>\n",
       "      <td>0</td>\n",
       "      <td>Very basic. A breakfast place that has been in...</td>\n",
       "    </tr>\n",
       "    <tr>\n",
       "      <th>12</th>\n",
       "      <td>1</td>\n",
       "      <td>It's my first time here.  You know the saying ...</td>\n",
       "    </tr>\n",
       "    <tr>\n",
       "      <th>13</th>\n",
       "      <td>0</td>\n",
       "      <td>Okay, so I was completely prepared for the wor...</td>\n",
       "    </tr>\n",
       "    <tr>\n",
       "      <th>14</th>\n",
       "      <td>0</td>\n",
       "      <td>Appears these guys can not manage their appt s...</td>\n",
       "    </tr>\n",
       "    <tr>\n",
       "      <th>15</th>\n",
       "      <td>1</td>\n",
       "      <td>While they don't have a very large selection I...</td>\n",
       "    </tr>\n",
       "    <tr>\n",
       "      <th>16</th>\n",
       "      <td>0</td>\n",
       "      <td>The Food was good.. However, they were very sh...</td>\n",
       "    </tr>\n",
       "    <tr>\n",
       "      <th>17</th>\n",
       "      <td>0</td>\n",
       "      <td>Not bad but not the best.\\n\\nWe've eaten here ...</td>\n",
       "    </tr>\n",
       "    <tr>\n",
       "      <th>18</th>\n",
       "      <td>0</td>\n",
       "      <td>The buffet is of a good size, and it does appe...</td>\n",
       "    </tr>\n",
       "    <tr>\n",
       "      <th>19</th>\n",
       "      <td>0</td>\n",
       "      <td>Terrible terrible terrible....we were seated i...</td>\n",
       "    </tr>\n",
       "    <tr>\n",
       "      <th>20</th>\n",
       "      <td>0</td>\n",
       "      <td>I went to Men's Wearhouse with my fiance becau...</td>\n",
       "    </tr>\n",
       "    <tr>\n",
       "      <th>21</th>\n",
       "      <td>0</td>\n",
       "      <td>Not helpful at all!  Their \"salespeople\" need ...</td>\n",
       "    </tr>\n",
       "    <tr>\n",
       "      <th>22</th>\n",
       "      <td>0</td>\n",
       "      <td>When we walked in, no one greeted us or even l...</td>\n",
       "    </tr>\n",
       "    <tr>\n",
       "      <th>23</th>\n",
       "      <td>0</td>\n",
       "      <td>This place is called Americas Diner but it is ...</td>\n",
       "    </tr>\n",
       "    <tr>\n",
       "      <th>24</th>\n",
       "      <td>0</td>\n",
       "      <td>So help me God, if I ever get married or have ...</td>\n",
       "    </tr>\n",
       "    <tr>\n",
       "      <th>25</th>\n",
       "      <td>0</td>\n",
       "      <td>I visited this establishment 3 times in the sp...</td>\n",
       "    </tr>\n",
       "    <tr>\n",
       "      <th>26</th>\n",
       "      <td>0</td>\n",
       "      <td>Awful service, poor attitude, poor food qualit...</td>\n",
       "    </tr>\n",
       "    <tr>\n",
       "      <th>27</th>\n",
       "      <td>0</td>\n",
       "      <td>I had one of my worst dining experiences here ...</td>\n",
       "    </tr>\n",
       "    <tr>\n",
       "      <th>28</th>\n",
       "      <td>0</td>\n",
       "      <td>Will never go in that store again!   I was in ...</td>\n",
       "    </tr>\n",
       "    <tr>\n",
       "      <th>29</th>\n",
       "      <td>1</td>\n",
       "      <td>Skillet was missing ingredients, served my 8 y...</td>\n",
       "    </tr>\n",
       "    <tr>\n",
       "      <th>...</th>\n",
       "      <td>...</td>\n",
       "      <td>...</td>\n",
       "    </tr>\n",
       "    <tr>\n",
       "      <th>4161</th>\n",
       "      <td>1</td>\n",
       "      <td>Wow... The best Mexican restaurant in the coun...</td>\n",
       "    </tr>\n",
       "    <tr>\n",
       "      <th>4162</th>\n",
       "      <td>1</td>\n",
       "      <td>Great food!!!  Great service!  Great prices!  ...</td>\n",
       "    </tr>\n",
       "    <tr>\n",
       "      <th>4163</th>\n",
       "      <td>1</td>\n",
       "      <td>Yes, it's a hole-in-the-wall and hard to get t...</td>\n",
       "    </tr>\n",
       "    <tr>\n",
       "      <th>4164</th>\n",
       "      <td>1</td>\n",
       "      <td>First time, and very impressed. Food was excel...</td>\n",
       "    </tr>\n",
       "    <tr>\n",
       "      <th>4165</th>\n",
       "      <td>1</td>\n",
       "      <td>I moved here from Long Island about 7 yrs ago....</td>\n",
       "    </tr>\n",
       "    <tr>\n",
       "      <th>4166</th>\n",
       "      <td>1</td>\n",
       "      <td>When we needed a new heating/cooling system we...</td>\n",
       "    </tr>\n",
       "    <tr>\n",
       "      <th>4167</th>\n",
       "      <td>1</td>\n",
       "      <td>We had a entire new system installed this summ...</td>\n",
       "    </tr>\n",
       "    <tr>\n",
       "      <th>4168</th>\n",
       "      <td>1</td>\n",
       "      <td>I've only had to use Bradham Brothers twice in...</td>\n",
       "    </tr>\n",
       "    <tr>\n",
       "      <th>4169</th>\n",
       "      <td>0</td>\n",
       "      <td>Thought we had already decided who would be re...</td>\n",
       "    </tr>\n",
       "    <tr>\n",
       "      <th>4170</th>\n",
       "      <td>1</td>\n",
       "      <td>I have lived in the area for 13 years and this...</td>\n",
       "    </tr>\n",
       "    <tr>\n",
       "      <th>4171</th>\n",
       "      <td>1</td>\n",
       "      <td>First, forget the name and just go look at the...</td>\n",
       "    </tr>\n",
       "    <tr>\n",
       "      <th>4172</th>\n",
       "      <td>1</td>\n",
       "      <td>Delicious, authentic Mexican food. Looks a bit...</td>\n",
       "    </tr>\n",
       "    <tr>\n",
       "      <th>4173</th>\n",
       "      <td>1</td>\n",
       "      <td>The other day someone posted a question about ...</td>\n",
       "    </tr>\n",
       "    <tr>\n",
       "      <th>4174</th>\n",
       "      <td>1</td>\n",
       "      <td>Outstanding food and wonderful service. The be...</td>\n",
       "    </tr>\n",
       "    <tr>\n",
       "      <th>4175</th>\n",
       "      <td>1</td>\n",
       "      <td>I have been to Miguel's many time in the last ...</td>\n",
       "    </tr>\n",
       "    <tr>\n",
       "      <th>4176</th>\n",
       "      <td>1</td>\n",
       "      <td>As other yelpers have indicated, it is hard to...</td>\n",
       "    </tr>\n",
       "    <tr>\n",
       "      <th>4177</th>\n",
       "      <td>1</td>\n",
       "      <td>This place is a hole in the wall and a bit har...</td>\n",
       "    </tr>\n",
       "    <tr>\n",
       "      <th>4178</th>\n",
       "      <td>1</td>\n",
       "      <td>This is the true definition of a dive. Don't g...</td>\n",
       "    </tr>\n",
       "    <tr>\n",
       "      <th>4179</th>\n",
       "      <td>1</td>\n",
       "      <td>I live in Southern California. I have been bac...</td>\n",
       "    </tr>\n",
       "    <tr>\n",
       "      <th>4180</th>\n",
       "      <td>1</td>\n",
       "      <td>Miguel's is great.  This may be difficult to l...</td>\n",
       "    </tr>\n",
       "    <tr>\n",
       "      <th>4181</th>\n",
       "      <td>1</td>\n",
       "      <td>As everyone else has pointed out already, this...</td>\n",
       "    </tr>\n",
       "    <tr>\n",
       "      <th>4182</th>\n",
       "      <td>1</td>\n",
       "      <td>This was great - good Mexican food, nice homey...</td>\n",
       "    </tr>\n",
       "    <tr>\n",
       "      <th>4183</th>\n",
       "      <td>1</td>\n",
       "      <td>Good mexican food at a great price convenientl...</td>\n",
       "    </tr>\n",
       "    <tr>\n",
       "      <th>4184</th>\n",
       "      <td>1</td>\n",
       "      <td>Great food close to the airport.  Found it on ...</td>\n",
       "    </tr>\n",
       "    <tr>\n",
       "      <th>4185</th>\n",
       "      <td>1</td>\n",
       "      <td>If you are not concerned with the ambiance, th...</td>\n",
       "    </tr>\n",
       "    <tr>\n",
       "      <th>4186</th>\n",
       "      <td>1</td>\n",
       "      <td>I would have never waked into this placE witho...</td>\n",
       "    </tr>\n",
       "    <tr>\n",
       "      <th>4187</th>\n",
       "      <td>1</td>\n",
       "      <td>As other Yelpers have mentioned, ambience is n...</td>\n",
       "    </tr>\n",
       "    <tr>\n",
       "      <th>4188</th>\n",
       "      <td>1</td>\n",
       "      <td>I don't really see a problem with the ambiance...</td>\n",
       "    </tr>\n",
       "    <tr>\n",
       "      <th>4189</th>\n",
       "      <td>1</td>\n",
       "      <td>This is another in a long list of  \"Thank the ...</td>\n",
       "    </tr>\n",
       "    <tr>\n",
       "      <th>4190</th>\n",
       "      <td>1</td>\n",
       "      <td>Used to go here everyday. It was where would c...</td>\n",
       "    </tr>\n",
       "  </tbody>\n",
       "</table>\n",
       "<p>4191 rows × 2 columns</p>\n",
       "</div>"
      ],
      "text/plain": [
       "      stars_pred                                               text\n",
       "0              0  I realize this is a pizza chain but that doesn...\n",
       "1              0  I thought I liked this place but I have change...\n",
       "2              0  CAN I RATE LESS THAN A STAR?\\nMy first and onl...\n",
       "3              0  Literally the worst Chinese buffet I have ever...\n",
       "4              1  Went a second time and did not have a great ex...\n",
       "5              1  Not the worst Chinese I've had, but definitely...\n",
       "6              0  These Ladys where allllllll up in my business....\n",
       "7              0  again, came here as it was within walking dist...\n",
       "8              0  I wish i could say good things about this busi...\n",
       "9              0  Greasy unappetizing fried food. Low quality in...\n",
       "10             1  Since there are more options in the area Lotus...\n",
       "11             0  Very basic. A breakfast place that has been in...\n",
       "12             1  It's my first time here.  You know the saying ...\n",
       "13             0  Okay, so I was completely prepared for the wor...\n",
       "14             0  Appears these guys can not manage their appt s...\n",
       "15             1  While they don't have a very large selection I...\n",
       "16             0  The Food was good.. However, they were very sh...\n",
       "17             0  Not bad but not the best.\\n\\nWe've eaten here ...\n",
       "18             0  The buffet is of a good size, and it does appe...\n",
       "19             0  Terrible terrible terrible....we were seated i...\n",
       "20             0  I went to Men's Wearhouse with my fiance becau...\n",
       "21             0  Not helpful at all!  Their \"salespeople\" need ...\n",
       "22             0  When we walked in, no one greeted us or even l...\n",
       "23             0  This place is called Americas Diner but it is ...\n",
       "24             0  So help me God, if I ever get married or have ...\n",
       "25             0  I visited this establishment 3 times in the sp...\n",
       "26             0  Awful service, poor attitude, poor food qualit...\n",
       "27             0  I had one of my worst dining experiences here ...\n",
       "28             0  Will never go in that store again!   I was in ...\n",
       "29             1  Skillet was missing ingredients, served my 8 y...\n",
       "...          ...                                                ...\n",
       "4161           1  Wow... The best Mexican restaurant in the coun...\n",
       "4162           1  Great food!!!  Great service!  Great prices!  ...\n",
       "4163           1  Yes, it's a hole-in-the-wall and hard to get t...\n",
       "4164           1  First time, and very impressed. Food was excel...\n",
       "4165           1  I moved here from Long Island about 7 yrs ago....\n",
       "4166           1  When we needed a new heating/cooling system we...\n",
       "4167           1  We had a entire new system installed this summ...\n",
       "4168           1  I've only had to use Bradham Brothers twice in...\n",
       "4169           0  Thought we had already decided who would be re...\n",
       "4170           1  I have lived in the area for 13 years and this...\n",
       "4171           1  First, forget the name and just go look at the...\n",
       "4172           1  Delicious, authentic Mexican food. Looks a bit...\n",
       "4173           1  The other day someone posted a question about ...\n",
       "4174           1  Outstanding food and wonderful service. The be...\n",
       "4175           1  I have been to Miguel's many time in the last ...\n",
       "4176           1  As other yelpers have indicated, it is hard to...\n",
       "4177           1  This place is a hole in the wall and a bit har...\n",
       "4178           1  This is the true definition of a dive. Don't g...\n",
       "4179           1  I live in Southern California. I have been bac...\n",
       "4180           1  Miguel's is great.  This may be difficult to l...\n",
       "4181           1  As everyone else has pointed out already, this...\n",
       "4182           1  This was great - good Mexican food, nice homey...\n",
       "4183           1  Good mexican food at a great price convenientl...\n",
       "4184           1  Great food close to the airport.  Found it on ...\n",
       "4185           1  If you are not concerned with the ambiance, th...\n",
       "4186           1  I would have never waked into this placE witho...\n",
       "4187           1  As other Yelpers have mentioned, ambience is n...\n",
       "4188           1  I don't really see a problem with the ambiance...\n",
       "4189           1  This is another in a long list of  \"Thank the ...\n",
       "4190           1  Used to go here everyday. It was where would c...\n",
       "\n",
       "[4191 rows x 2 columns]"
      ]
     },
     "execution_count": 114,
     "metadata": {},
     "output_type": "execute_result"
    }
   ],
   "source": [
    "output"
   ]
  },
  {
   "cell_type": "markdown",
   "metadata": {},
   "source": [
    "## Evaluate model predictions:"
   ]
  },
  {
   "cell_type": "markdown",
   "metadata": {},
   "source": [
    "- Sensitivity and specificity analysis, check bias"
   ]
  },
  {
   "cell_type": "markdown",
   "metadata": {},
   "source": [
    "- Create a zero rate classifier"
   ]
  },
  {
   "cell_type": "markdown",
   "metadata": {},
   "source": [
    "- f1 Score"
   ]
  },
  {
   "cell_type": "code",
   "execution_count": 115,
   "metadata": {
    "collapsed": false
   },
   "outputs": [
    {
     "data": {
      "text/plain": [
       "(0.89134438305709029, 0.96832277425808599)"
      ]
     },
     "execution_count": 115,
     "metadata": {},
     "output_type": "execute_result"
    }
   ],
   "source": [
    "precision = metrics.precision_score(df_testing['stars'],result)\n",
    "recall = metrics.recall_score(df_testing['stars'],result)\n",
    "precision, recall"
   ]
  },
  {
   "cell_type": "code",
   "execution_count": 116,
   "metadata": {
    "collapsed": false
   },
   "outputs": [
    {
     "data": {
      "text/plain": [
       "0.92824037078472099"
      ]
     },
     "execution_count": 116,
     "metadata": {},
     "output_type": "execute_result"
    }
   ],
   "source": [
    "f1_score = metrics.f1_score(df_testing['stars'],result)\n",
    "f1_score"
   ]
  },
  {
   "cell_type": "code",
   "execution_count": 117,
   "metadata": {
    "collapsed": false
   },
   "outputs": [],
   "source": [
    "# class_frequency = "
   ]
  },
  {
   "cell_type": "code",
   "execution_count": 118,
   "metadata": {
    "collapsed": true
   },
   "outputs": [],
   "source": [
    "# accuracy = "
   ]
  },
  {
   "cell_type": "code",
   "execution_count": 119,
   "metadata": {
    "collapsed": false,
    "scrolled": true
   },
   "outputs": [
    {
     "data": {
      "text/plain": [
       "True     3742\n",
       "False     449\n",
       "dtype: int64"
      ]
     },
     "execution_count": 119,
     "metadata": {},
     "output_type": "execute_result"
    }
   ],
   "source": [
    "test_process = result == df_testing['stars']\n",
    "test_process.value_counts()"
   ]
  },
  {
   "cell_type": "code",
   "execution_count": 120,
   "metadata": {
    "collapsed": false
   },
   "outputs": [
    {
     "data": {
      "text/plain": [
       "1    15706\n",
       "0     5257\n",
       "dtype: int64"
      ]
     },
     "execution_count": 120,
     "metadata": {},
     "output_type": "execute_result"
    }
   ],
   "source": [
    "df['stars'].value_counts()"
   ]
  },
  {
   "cell_type": "code",
   "execution_count": 121,
   "metadata": {
    "collapsed": false,
    "scrolled": true
   },
   "outputs": [
    {
     "data": {
      "text/plain": [
       "0       0\n",
       "1       0\n",
       "2       0\n",
       "3       0\n",
       "4       1\n",
       "5       1\n",
       "6       0\n",
       "7       0\n",
       "8       0\n",
       "9       0\n",
       "10      1\n",
       "11      0\n",
       "12      1\n",
       "13      0\n",
       "14      0\n",
       "15      1\n",
       "16      0\n",
       "17      0\n",
       "18      0\n",
       "19      0\n",
       "20      0\n",
       "21      0\n",
       "22      0\n",
       "23      0\n",
       "24      0\n",
       "25      0\n",
       "26      0\n",
       "27      0\n",
       "28      0\n",
       "29      1\n",
       "       ..\n",
       "4161    0\n",
       "4162    0\n",
       "4163    0\n",
       "4164    0\n",
       "4165    0\n",
       "4166    0\n",
       "4167    0\n",
       "4168    0\n",
       "4169   -1\n",
       "4170    0\n",
       "4171    0\n",
       "4172    0\n",
       "4173    0\n",
       "4174    0\n",
       "4175    0\n",
       "4176    0\n",
       "4177    0\n",
       "4178    0\n",
       "4179    0\n",
       "4180    0\n",
       "4181    0\n",
       "4182    0\n",
       "4183    0\n",
       "4184    0\n",
       "4185    0\n",
       "4186    0\n",
       "4187    0\n",
       "4188    0\n",
       "4189    0\n",
       "4190    0\n",
       "Name: stars, dtype: int64"
      ]
     },
     "execution_count": 121,
     "metadata": {},
     "output_type": "execute_result"
    }
   ],
   "source": [
    "difference = result - df_testing['stars']\n",
    "difference"
   ]
  },
  {
   "cell_type": "code",
   "execution_count": 122,
   "metadata": {
    "collapsed": false
   },
   "outputs": [],
   "source": [
    "length = float(len(df_testing['stars']))"
   ]
  },
  {
   "cell_type": "code",
   "execution_count": null,
   "metadata": {
    "collapsed": false
   },
   "outputs": [],
   "source": []
  },
  {
   "cell_type": "code",
   "execution_count": 123,
   "metadata": {
    "collapsed": false
   },
   "outputs": [
    {
     "data": {
      "text/plain": [
       "0.10713433548079217"
      ]
     },
     "execution_count": 123,
     "metadata": {},
     "output_type": "execute_result"
    }
   ],
   "source": [
    "mse = sum((difference)**2)/length\n",
    "mse"
   ]
  },
  {
   "cell_type": "code",
   "execution_count": null,
   "metadata": {
    "collapsed": false
   },
   "outputs": [],
   "source": []
  },
  {
   "cell_type": "code",
   "execution_count": null,
   "metadata": {
    "collapsed": false
   },
   "outputs": [],
   "source": []
  },
  {
   "cell_type": "code",
   "execution_count": null,
   "metadata": {
    "collapsed": false
   },
   "outputs": [],
   "source": []
  },
  {
   "cell_type": "code",
   "execution_count": null,
   "metadata": {
    "collapsed": true
   },
   "outputs": [],
   "source": []
  }
 ],
 "metadata": {
  "kernelspec": {
   "display_name": "Python 2",
   "language": "python",
   "name": "python2"
  },
  "language_info": {
   "codemirror_mode": {
    "name": "ipython",
    "version": 2
   },
   "file_extension": ".py",
   "mimetype": "text/x-python",
   "name": "python",
   "nbconvert_exporter": "python",
   "pygments_lexer": "ipython2",
   "version": "2.7.11"
  }
 },
 "nbformat": 4,
 "nbformat_minor": 0
}
